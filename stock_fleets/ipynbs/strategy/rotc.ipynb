{
 "cells": [
  {
   "cell_type": "code",
   "execution_count": 1,
   "metadata": {},
   "outputs": [],
   "source": [
    "import sys,os\n",
    "sys.path.append(\"..\")\n",
    "import django\n",
    "django.setup()\n",
    "from crawlers.models import *\n",
    "# from crawlers.finlab.import_tools import engine\n",
    "import pandas as pd"
   ]
  },
  {
   "cell_type": "code",
   "execution_count": 2,
   "metadata": {},
   "outputs": [
    {
     "data": {
      "text/plain": [
       "<QuerySet [{'id': 508555, 'stock_id': '1336', 'date': datetime.date(2006, 12, 13), 'stock_name': '台翰                ', 'open_price': 67.52, 'close_price': None, 'high_price': None, 'low_price': None, 'turnover_vol': None, 'turnover_price': None, 'market': 'rotc'}, {'id': 508556, 'stock_id': '1558', 'date': datetime.date(2006, 12, 13), 'stock_name': '伸興                ', 'open_price': 41.5, 'close_price': None, 'high_price': None, 'low_price': None, 'turnover_vol': None, 'turnover_price': None, 'market': 'rotc'}, {'id': 508557, 'stock_id': '1563', 'date': datetime.date(2006, 12, 13), 'stock_name': '巧新                ', 'open_price': 38.0, 'close_price': 38.6, 'high_price': 38.6, 'low_price': 38.2, 'turnover_vol': 10000.0, 'turnover_price': 384000.0, 'market': 'rotc'}, {'id': 508558, 'stock_id': '1566', 'date': datetime.date(2006, 12, 13), 'stock_name': '毅金                ', 'open_price': 11.12, 'close_price': None, 'high_price': None, 'low_price': None, 'turnover_vol': None, 'turnover_price': None, 'market': 'rotc'}, {'id': 508559, 'stock_id': '1568', 'date': datetime.date(2006, 12, 13), 'stock_name': '倉佑                ', 'open_price': 18.26, 'close_price': 18.0, 'high_price': 18.2, 'low_price': 18.0, 'turnover_vol': 6000.0, 'turnover_price': 108500.0, 'market': 'rotc'}, {'id': 508560, 'stock_id': '1573', 'date': datetime.date(2006, 12, 13), 'stock_name': '鼎朋                ', 'open_price': 16.12, 'close_price': None, 'high_price': None, 'low_price': None, 'turnover_vol': None, 'turnover_price': None, 'market': 'rotc'}, {'id': 508561, 'stock_id': '1575', 'date': datetime.date(2006, 12, 13), 'stock_name': '國直                ', 'open_price': 43.5, 'close_price': None, 'high_price': None, 'low_price': None, 'turnover_vol': None, 'turnover_price': None, 'market': 'rotc'}, {'id': 508562, 'stock_id': '1577', 'date': datetime.date(2006, 12, 13), 'stock_name': '立格                ', 'open_price': 19.8, 'close_price': None, 'high_price': None, 'low_price': None, 'turnover_vol': None, 'turnover_price': None, 'market': 'rotc'}, {'id': 508563, 'stock_id': '1580', 'date': datetime.date(2006, 12, 13), 'stock_name': '新麥                ', 'open_price': 32.0, 'close_price': None, 'high_price': None, 'low_price': None, 'turnover_vol': None, 'turnover_price': None, 'market': 'rotc'}, {'id': 508564, 'stock_id': '1582', 'date': datetime.date(2006, 12, 13), 'stock_name': '信錦                ', 'open_price': 170.02, 'close_price': 170.2, 'high_price': 170.8, 'low_price': 170.2, 'turnover_vol': 10000.0, 'turnover_price': 1705000.0, 'market': 'rotc'}, {'id': 508565, 'stock_id': '1752', 'date': datetime.date(2006, 12, 13), 'stock_name': '南光                ', 'open_price': 20.5, 'close_price': None, 'high_price': None, 'low_price': None, 'turnover_vol': None, 'turnover_price': None, 'market': 'rotc'}, {'id': 508566, 'stock_id': '1760', 'date': datetime.date(2006, 12, 13), 'stock_name': '寶齡                ', 'open_price': 16.76, 'close_price': None, 'high_price': None, 'low_price': None, 'turnover_vol': None, 'turnover_price': None, 'market': 'rotc'}, {'id': 508567, 'stock_id': '1776', 'date': datetime.date(2006, 12, 13), 'stock_name': '展宇                ', 'open_price': 10.95, 'close_price': None, 'high_price': None, 'low_price': None, 'turnover_vol': None, 'turnover_price': None, 'market': 'rotc'}, {'id': 508568, 'stock_id': '1784', 'date': datetime.date(2006, 12, 13), 'stock_name': '訊聯                ', 'open_price': 21.97, 'close_price': 24.1, 'high_price': 24.1, 'low_price': 24.1, 'turnover_vol': 3000.0, 'turnover_price': 72300.0, 'market': 'rotc'}, {'id': 508569, 'stock_id': '1788', 'date': datetime.date(2006, 12, 13), 'stock_name': '杏昌                ', 'open_price': 38.0, 'close_price': None, 'high_price': None, 'low_price': None, 'turnover_vol': None, 'turnover_price': None, 'market': 'rotc'}, {'id': 508570, 'stock_id': '1794', 'date': datetime.date(2006, 12, 13), 'stock_name': '露絲科              ', 'open_price': 10.2, 'close_price': 10.0, 'high_price': 10.45, 'low_price': 10.0, 'turnover_vol': 29600.0, 'turnover_price': 305800.0, 'market': 'rotc'}, {'id': 508571, 'stock_id': '1795', 'date': datetime.date(2006, 12, 13), 'stock_name': '美時                ', 'open_price': 12.2, 'close_price': None, 'high_price': None, 'low_price': None, 'turnover_vol': None, 'turnover_price': None, 'market': 'rotc'}, {'id': 508572, 'stock_id': '1814', 'date': datetime.date(2006, 12, 13), 'stock_name': '東光訊              ', 'open_price': 7.84, 'close_price': None, 'high_price': None, 'low_price': None, 'turnover_vol': None, 'turnover_price': None, 'market': 'rotc'}, {'id': 508573, 'stock_id': '2056', 'date': datetime.date(2006, 12, 13), 'stock_name': '璋釔                ', 'open_price': 14.85, 'close_price': None, 'high_price': None, 'low_price': None, 'turnover_vol': None, 'turnover_price': None, 'market': 'rotc'}, {'id': 508574, 'stock_id': '2060', 'date': datetime.date(2006, 12, 13), 'stock_name': '永發                ', 'open_price': 4.03, 'close_price': 4.0, 'high_price': 4.25, 'low_price': 4.0, 'turnover_vol': 3000.0, 'turnover_price': 12450.0, 'market': 'rotc'}, '...(remaining elements truncated)...']>"
      ]
     },
     "execution_count": 2,
     "metadata": {},
     "output_type": "execute_result"
    }
   ],
   "source": [
    "df_rotc=StockPriceTW.objects.filter(market='rotc').values()\n",
    "df_rotc"
   ]
  },
  {
   "cell_type": "code",
   "execution_count": null,
   "metadata": {},
   "outputs": [],
   "source": []
  }
 ],
 "metadata": {
  "kernelspec": {
   "display_name": "Django Shell-Plus",
   "language": "python",
   "name": "django_extensions"
  },
  "language_info": {
   "codemirror_mode": {
    "name": "ipython",
    "version": 3
   },
   "file_extension": ".py",
   "mimetype": "text/x-python",
   "name": "python",
   "nbconvert_exporter": "python",
   "pygments_lexer": "ipython3",
   "version": "3.7.4"
  }
 },
 "nbformat": 4,
 "nbformat_minor": 4
}
