{
 "cells": [
  {
   "cell_type": "code",
   "execution_count": null,
   "metadata": {},
   "outputs": [],
   "source": [
    "import sys,os\n",
    "sys.path.append(\"..\")\n",
    "import django\n",
    "django.setup()\n",
    "from crawlers.models import *\n",
    "import pandas as pd\n",
    "import datetime\n",
    "from components.price_feature import GetAdj\n",
    "import numpy as np\n",
    "from components.backend_api import DataFilter\n",
    "from components.backtest import Backtest\n",
    "import matplotlib.pyplot as plt\n"
   ]
  },
  {
   "cell_type": "markdown",
   "metadata": {},
   "source": [
    "# Strategy"
   ]
  },
  {
   "cell_type": "code",
   "execution_count": null,
   "metadata": {
    "scrolled": true
   },
   "outputs": [],
   "source": [
    "rev_data=DataFilter(model=MonthlyRevenueTW,fields=['stock_id','date','this_month_rev','cp_last_year_rev','cm_this_month_rev'],start_date='2012-01-10').get_pivot()\n",
    "cp_last_year_rev=rev_data['cp_last_year_rev']\n",
    "cp_last_year_rev.index = pd.to_datetime(cp_last_year_rev.index).shift(5, \"d\")\n",
    "rev=rev_data['this_month_rev']\n",
    "rev.index = pd.to_datetime(rev.index).shift(5, \"d\")\n",
    "rev3=rev.rolling(3, min_periods=3).mean()\n",
    "rev12=rev.rolling(12, min_periods=12).mean()\n",
    "revg3=round((rev3-rev3.shift(12))/(rev3.shift(12))*100,2)#近3月平均營收年增率\n",
    "revg12=round((rev12-rev12.shift(12))/(rev12.shift(12))*100,2)#近12月平均營收年增率\n",
    "revg12\n"
   ]
  },
  {
   "cell_type": "code",
   "execution_count": null,
   "metadata": {},
   "outputs": [],
   "source": [
    "cond1=rev3/rev12>1.05\n",
    "cond1"
   ]
  },
  {
   "cell_type": "code",
   "execution_count": null,
   "metadata": {},
   "outputs": [],
   "source": [
    "cond2=(cp_last_year_rev>30)&(cp_last_year_rev<100)\n",
    "cond2"
   ]
  },
  {
   "cell_type": "code",
   "execution_count": null,
   "metadata": {},
   "outputs": [],
   "source": [
    "# data=[]\n",
    "# freq=3\n",
    "# date_set=cp_last_year_rev.index[freq:]\n",
    "# for i in range(freq,len(cp_last_year_rev)):\n",
    "#     dgg=(cp_last_year_rev.iloc[i-freq:i]>20).sum()==freq\n",
    "#     data.append(dgg)\n",
    "# cond3=pd.DataFrame(data,date_set)\n",
    "# cond3"
   ]
  },
  {
   "cell_type": "markdown",
   "metadata": {},
   "source": [
    "# 價格濾網"
   ]
  },
  {
   "cell_type": "code",
   "execution_count": null,
   "metadata": {},
   "outputs": [],
   "source": [
    "price_data=DataFilter(model=StockPriceTW,fields=['stock_id','date','close_price','turnover_vol'],start_date='2012-01-10',market=['sii', 'otc']).get_pivot()\n",
    "df=price_data['close_price']\n",
    "start_date=df.index[0]\n",
    "last_date = df.index[-1]\n",
    "date_range = pd.date_range(start=start_date, end=last_date)\n",
    "df = df.reindex(date_range).fillna(method='ffill').dropna(how='all')\n",
    "df2=df.reindex(cond1.index)\n",
    "cond4=(df2>10)&(df2<=150)\n",
    "cond4"
   ]
  },
  {
   "cell_type": "markdown",
   "metadata": {},
   "source": [
    "# 交易量濾網"
   ]
  },
  {
   "cell_type": "code",
   "execution_count": null,
   "metadata": {},
   "outputs": [],
   "source": [
    "turnover_vol=price_data['turnover_vol']\n",
    "turnover_vol=turnover_vol.rolling(5, min_periods=5).mean()\n",
    "turnover_vol = turnover_vol.reindex(date_range).fillna(method='ffill').dropna(how='all')\n",
    "turnover_vol=turnover_vol.reindex(cond1.index)\n",
    "cond5=turnover_vol>500000\n",
    "cond5\n"
   ]
  },
  {
   "cell_type": "code",
   "execution_count": null,
   "metadata": {},
   "outputs": [],
   "source": [
    "\n",
    "# cond5 = rev.iloc[-1] == rev.iloc[-12:].max()\n",
    "# cond5=cond5[cond5 == True]\n",
    "# len(cond5)\n",
    "\n",
    "# data=[]\n",
    "# date_set=rev.index[12:]\n",
    "# for i in range(12,len(rev)):\n",
    "#     dgg=rev.iloc[i-12:i]\n",
    "#     max_cond = dgg.iloc[-1] == dgg.max()\n",
    "#     data.append(max_cond)\n",
    "# cond5=pd.DataFrame(data,date_set)\n",
    "# cond5\n",
    "\n",
    "# freq=3\n",
    "# data=[]\n",
    "# date_set=cp_last_year_rev.index[freq:]\n",
    "# for i in range(freq,len(cp_last_year_rev)):\n",
    "#     _revg3=revg3.iloc[i-freq:i]\n",
    "#     _revg12=revg12.iloc[i-freq:i]\n",
    "#     _cond1=_revg3.iloc[-1]>_revg12.iloc[-1]\n",
    "#     _cond2=_revg3.iloc[-freq]<_revg12.iloc[-freq]\n",
    "#     data.append(_cond1&_cond2)\n",
    "# cond5=pd.DataFrame(data,date_set)\n",
    "# cond5\n",
    "\n"
   ]
  },
  {
   "cell_type": "code",
   "execution_count": null,
   "metadata": {},
   "outputs": [],
   "source": [
    "strategy=(cond1&cond2&cond4&cond5)\n",
    "strategy"
   ]
  },
  {
   "cell_type": "code",
   "execution_count": null,
   "metadata": {},
   "outputs": [],
   "source": [
    "df=Backtest(start_date='2012-01-10',strategy=strategy)\n",
    "df=df.report()\n",
    "df"
   ]
  },
  {
   "cell_type": "code",
   "execution_count": null,
   "metadata": {},
   "outputs": [],
   "source": [
    "pd.Series(df['benchmark'].cumprod(),df['date']).plot(label='benchmark')\n",
    "pd.Series(df['cumprod_result'],df['date']).plot(label='return')\n",
    "plt.legend()"
   ]
  },
  {
   "cell_type": "code",
   "execution_count": null,
   "metadata": {},
   "outputs": [],
   "source": [
    "pd.Series(df['result']-df['result'].mean(),df['date']).plot(kind='hist')"
   ]
  },
  {
   "cell_type": "code",
   "execution_count": null,
   "metadata": {},
   "outputs": [],
   "source": [
    "ss=strategy.iloc[-2].dropna()\n",
    "len(ss[ss])"
   ]
  },
  {
   "cell_type": "code",
   "execution_count": null,
   "metadata": {},
   "outputs": [],
   "source": []
  }
 ],
 "metadata": {
  "kernelspec": {
   "display_name": "Django Shell-Plus",
   "language": "python",
   "name": "django_extensions"
  },
  "language_info": {
   "codemirror_mode": {
    "name": "ipython",
    "version": 3
   },
   "file_extension": ".py",
   "mimetype": "text/x-python",
   "name": "python",
   "nbconvert_exporter": "python",
   "pygments_lexer": "ipython3",
   "version": "3.7.4"
  }
 },
 "nbformat": 4,
 "nbformat_minor": 2
}
