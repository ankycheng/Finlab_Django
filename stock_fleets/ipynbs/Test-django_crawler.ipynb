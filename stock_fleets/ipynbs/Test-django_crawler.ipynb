{
 "cells": [
  {
   "cell_type": "code",
   "execution_count": null,
   "metadata": {},
   "outputs": [],
   "source": [
    "#pycharm 測試\n",
    "import sys,os\n",
    "sys.path.append(\"..\")\n",
    "import django\n",
    "django.setup()\n",
    "from crawlers.finlab.pioneers import *\n",
    "from crawlers.models import *\n",
    "from crawlers.finlab.import_tools import *"
   ]
  },
  {
   "cell_type": "markdown",
   "metadata": {},
   "source": [
    "#  台股股價"
   ]
  },
  {
   "cell_type": "code",
   "execution_count": null,
   "metadata": {},
   "outputs": [],
   "source": [
    "C1=CrawlerProcess(CrawlStockPriceTW,'crawl_main' ,StockPriceTW,'date_range')\n",
    "print(C1)\n",
    "\n",
    "# 指定日期區間爬蟲\n",
    "# C1.specified_date_crawl('2020-4-14','2020-4-15')\n",
    "\n",
    "#自動爬蟲\n",
    "C1.auto_update_crawl()"
   ]
  },
  {
   "cell_type": "markdown",
   "metadata": {},
   "source": [
    "#  台股月營收"
   ]
  },
  {
   "cell_type": "code",
   "execution_count": null,
   "metadata": {},
   "outputs": [],
   "source": [
    "C2=CrawlerProcess(CrawlMonthlyRevnueTW,'crawl_main',MonthlyRevenueTW,'month_range')\n",
    "print(C2)\n",
    "C2.auto_update_crawl()"
   ]
  },
  {
   "cell_type": "markdown",
   "metadata": {},
   "source": [
    "#  台股企業基本資訊\n",
    "\n",
    "非時間序列資料，使用add_to_sql()匯入"
   ]
  },
  {
   "cell_type": "code",
   "execution_count": null,
   "metadata": {
    "scrolled": false
   },
   "outputs": [],
   "source": [
    "C3=CrawlCompanyBasicInfoTW()\n",
    "AddToSQL.add_to_sql(CompanyBasicInfoTW, C3.crawl_main())"
   ]
  },
  {
   "cell_type": "markdown",
   "metadata": {},
   "source": [
    "# 台股指數點值資訊"
   ]
  },
  {
   "cell_type": "code",
   "execution_count": null,
   "metadata": {},
   "outputs": [],
   "source": [
    "C4=CrawlerProcess(CrawlStockIndexPriceTW,'crawl_main' ,StockIndexPriceTW,'date_range')\n",
    "print(C4)\n",
    "\n",
    "# 指定日期區間爬蟲\n",
    "C4.specified_date_crawl('2009-1-4','2009-1-5')\n",
    "\n",
    "# #自動爬蟲\n",
    "# C4.auto_update_crawl()"
   ]
  },
  {
   "cell_type": "markdown",
   "metadata": {},
   "source": [
    "# 台股指數成交量暨統計資訊"
   ]
  },
  {
   "cell_type": "code",
   "execution_count": null,
   "metadata": {},
   "outputs": [],
   "source": [
    "C5=CrawlerProcess(CrawlStockIndexVolTW,'crawl_main' ,StockIndexVolTW,'date_range')\n",
    "print(C5)\n",
    "\n",
    "# 指定日期區間爬蟲\n",
    "C5.specified_date_crawl('2009-1-1','2009-1-3')\n",
    "\n",
    "#自動爬蟲\n",
    "# C5.auto_update_crawl()"
   ]
  },
  {
   "cell_type": "markdown",
   "metadata": {},
   "source": [
    "# 台股券商資訊"
   ]
  },
  {
   "cell_type": "code",
   "execution_count": null,
   "metadata": {},
   "outputs": [],
   "source": [
    "C6=CrawlBrokerInfoTW()\n",
    "AddToSQL.add_to_sql(BrokerInfoTW, C6.crawl_main())"
   ]
  },
  {
   "cell_type": "code",
   "execution_count": null,
   "metadata": {},
   "outputs": [],
   "source": [
    "update_xy_data(CompanyBasicInfoTW,100)"
   ]
  },
  {
   "cell_type": "markdown",
   "metadata": {},
   "source": [
    "# 券商分點進出"
   ]
  },
  {
   "cell_type": "code",
   "execution_count": null,
   "metadata": {},
   "outputs": [],
   "source": [
    "C7=CrawlerProcess(CrawlBrokerTradeTW,'crawl_main',BrokerTradeTW,'date_range',nest=True)\n",
    "print(C7)\n",
    "# 指定日期區間爬蟲\n",
    "C7.specified_date_crawl('2018-1-3','2018-1-6')\n",
    "# a=CrawlBrokerTradeTW(datetime.datetime(2018,1,2))\n",
    "# # a.broker_trade('1101')\n",
    "# a.crawl_main()"
   ]
  },
  {
   "cell_type": "markdown",
   "metadata": {},
   "source": [
    "# 台股法人買賣超現貨明細"
   ]
  },
  {
   "cell_type": "code",
   "execution_count": null,
   "metadata": {},
   "outputs": [],
   "source": [
    "C8=CrawlerProcess(CrawlStockTiiTW,'crawl_main' ,StockTiiTW,'date_range')\n",
    "print(C8)\n",
    "\n",
    "# 指定日期區間爬蟲\n",
    "C8.specified_date_crawl('2020-4-27','2020-4-30')"
   ]
  },
  {
   "cell_type": "markdown",
   "metadata": {},
   "source": [
    "# 台股法人買賣超現貨日統計"
   ]
  },
  {
   "cell_type": "code",
   "execution_count": null,
   "metadata": {},
   "outputs": [],
   "source": [
    "C9=CrawlerProcess(CrawlStockTiiMarketReportTW,'crawl_main',StockTiiMarketReportTW,'date_range')\n",
    "print(C9)\n",
    "\n",
    "# 指定日期區間爬蟲\n",
    "C9.specified_date_crawl('2020-4-29','2020-4-30')\n",
    "# df=CrawlStockTiiMarketReportTW(datetime.datetime(2020,4,29)).crawl_main()\n",
    "# add_to_sql(StockTiiMarketReportTW,df)"
   ]
  },
  {
   "cell_type": "markdown",
   "metadata": {},
   "source": [
    "# 集保餘額"
   ]
  },
  {
   "cell_type": "code",
   "execution_count": null,
   "metadata": {},
   "outputs": [],
   "source": [
    "\n",
    "C10=CrawlStockTdccTW()\n",
    "print(C10)\n",
    "AddToSQL.add_to_sql(StockTdccTW, C10.crawl_main())\n"
   ]
  },
  {
   "cell_type": "markdown",
   "metadata": {},
   "source": [
    "# 融資交易明細"
   ]
  },
  {
   "cell_type": "code",
   "execution_count": null,
   "metadata": {},
   "outputs": [],
   "source": [
    "C11=CrawlerProcess(CrawlStockMarginTransactionsTW,'crawl_main',StockMarginTransactionsTW,'date_range')\n",
    "print(C11)\n",
    "\n",
    "# 指定日期區間爬蟲\n",
    "C11.specified_date_crawl('2009-1-6','2009-1-10')\n",
    "\n"
   ]
  },
  {
   "cell_type": "code",
   "execution_count": null,
   "metadata": {},
   "outputs": [],
   "source": []
  }
 ],
 "metadata": {
  "kernelspec": {
   "display_name": "Django Shell-Plus",
   "language": "python",
   "name": "django_extensions"
  },
  "language_info": {
   "codemirror_mode": {
    "name": "ipython",
    "version": 3
   },
   "file_extension": ".py",
   "mimetype": "text/x-python",
   "name": "python",
   "nbconvert_exporter": "python",
   "pygments_lexer": "ipython3",
   "version": "3.7.4"
  }
 },
 "nbformat": 4,
 "nbformat_minor": 2
}
