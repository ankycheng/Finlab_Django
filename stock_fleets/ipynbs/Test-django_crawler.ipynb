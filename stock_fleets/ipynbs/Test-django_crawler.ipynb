{
 "cells": [
  {
   "cell_type": "code",
   "execution_count": 1,
   "metadata": {},
   "outputs": [],
   "source": [
    "#pycharm 測試\n",
    "import sys,os\n",
    "sys.path.append(\"..\")\n",
    "import django\n",
    "django.setup()\n",
    "from crawlers.models import *\n",
    "from crawlers.finlab.pioneers import *\n",
    "from crawlers.finlab.import_tools import *"
   ]
  },
  {
   "cell_type": "markdown",
   "metadata": {},
   "source": [
    "#  台股股價"
   ]
  },
  {
   "cell_type": "code",
   "execution_count": null,
   "metadata": {},
   "outputs": [],
   "source": [
    "C1=CrawlerProcess(CrawlStockPriceTW,'crawl_main' ,StockPriceTW,'date_range')\n",
    "print(C1)\n",
    "\n",
    "# 指定日期區間爬蟲\n",
    "# C1.specified_date_crawl('2020-4-14','2020-4-15')\n",
    "\n",
    "#自動爬蟲\n",
    "C1.auto_update_crawl()"
   ]
  },
  {
   "cell_type": "markdown",
   "metadata": {},
   "source": [
    "#  台股月營收"
   ]
  },
  {
   "cell_type": "code",
   "execution_count": null,
   "metadata": {},
   "outputs": [],
   "source": [
    "C2=CrawlerProcess(CrawlMonthlyRevnueTW,'crawl_main',MonthlyRevenueTW,'month_range')\n",
    "print(C2)\n",
    "C2.auto_update_crawl()"
   ]
  },
  {
   "cell_type": "markdown",
   "metadata": {},
   "source": [
    "#  台股企業基本資訊\n",
    "\n",
    "非時間序列資料，使用add_to_sql()匯入"
   ]
  },
  {
   "cell_type": "code",
   "execution_count": null,
   "metadata": {
    "scrolled": false
   },
   "outputs": [],
   "source": [
    "C3=CrawlCompanyBasicInfoTW()\n",
    "add_to_sql(CompanyBasicInfoTW, C3.crawl_main())"
   ]
  },
  {
   "cell_type": "markdown",
   "metadata": {},
   "source": [
    "# 台股指數點值資訊"
   ]
  },
  {
   "cell_type": "code",
   "execution_count": null,
   "metadata": {},
   "outputs": [],
   "source": [
    "C4=CrawlerProcess(CrawlStockIndexPriceTW,'crawl_main' ,StockIndexPriceTW,'date_range')\n",
    "print(C4)\n",
    "\n",
    "# 指定日期區間爬蟲\n",
    "C4.specified_date_crawl('2009-1-4','2009-1-5')\n",
    "\n",
    "# #自動爬蟲\n",
    "# C4.auto_update_crawl()"
   ]
  },
  {
   "cell_type": "markdown",
   "metadata": {},
   "source": [
    "# 台股指數成交量暨統計資訊"
   ]
  },
  {
   "cell_type": "code",
   "execution_count": null,
   "metadata": {},
   "outputs": [],
   "source": [
    "C5=CrawlerProcess(CrawlStockIndexVolTW,'crawl_main' ,StockIndexVolTW,'date_range')\n",
    "print(C5)\n",
    "\n",
    "# 指定日期區間爬蟲\n",
    "C5.specified_date_crawl('2009-1-1','2009-1-3')\n",
    "\n",
    "#自動爬蟲\n",
    "# C5.auto_update_crawl()"
   ]
  },
  {
   "cell_type": "markdown",
   "metadata": {},
   "source": [
    "# 台股券商資訊"
   ]
  },
  {
   "cell_type": "code",
   "execution_count": null,
   "metadata": {},
   "outputs": [],
   "source": [
    "C6=CrawlBrokerInfoTW()\n",
    "add_to_sql(BrokerInfoTW, C6.crawl_main())"
   ]
  },
  {
   "cell_type": "code",
   "execution_count": null,
   "metadata": {},
   "outputs": [],
   "source": [
    "update_xy_data(CompanyBasicInfoTW,100)"
   ]
  },
  {
   "cell_type": "markdown",
   "metadata": {},
   "source": [
    "# 券商分點進出"
   ]
  },
  {
   "cell_type": "code",
   "execution_count": 2,
   "metadata": {},
   "outputs": [
    {
     "name": "stderr",
     "output_type": "stream",
     "text": [
      "/Users/benbilly3/Finlab_Django/venv/lib/python3.7/site-packages/pymysql/cursors.py:170: Warning: (3719, \"'utf8' is currently an alias for the character set UTF8MB3, but will be an alias for UTF8MB4 in a future release. Please consider using UTF8MB4 in order to be unambiguous.\")\n",
      "  result = self._query(query)\n"
     ]
    },
    {
     "name": "stdout",
     "output_type": "stream",
     "text": [
      "crawlers_brokertradetw table_latest_date:2018-01-08 00:00:00\n",
      "0050\n",
      "update  Stock_id:0050-摩根大通\n",
      "update  Stock_id:0050-元富\n",
      "update  Stock_id:0050-元大\n",
      "update  Stock_id:0050-統一\n",
      "update  Stock_id:0050-港商麥格理\n",
      "update  Stock_id:0050-日盛\n",
      "update  Stock_id:0050-凱基\n",
      "update  Stock_id:0050-台中銀-台北\n",
      "update  Stock_id:0050-群益金鼎-新竹\n",
      "update  Stock_id:0050-陽信-石牌\n",
      "update  Stock_id:0050-兆豐\n",
      "update  Stock_id:0050-土銀-台南\n",
      "update  Stock_id:0050-元大-古亭\n",
      "update  Stock_id:0050-統一-宜蘭\n",
      "update  Stock_id:0050-中國信託-松江\n",
      "update  Stock_id:0050-永豐金-古亭\n",
      "update  Stock_id:0050-國泰\n",
      "update  Stock_id:0050-凱基-台北\n",
      "update  Stock_id:0050-台新\n",
      "update  Stock_id:0050-元大-龍潭\n",
      "update  Stock_id:0050-新光\n",
      "update  Stock_id:0050-犇亞-鑫豐\n",
      "update  Stock_id:0050-新光-台中\n",
      "update  Stock_id:0050-合庫\n",
      "update  Stock_id:0050-凱基-站前\n",
      "update  Stock_id:0050-臺銀-臺中\n",
      "update  Stock_id:0050-台中銀\n",
      "update  Stock_id:0050-日盛-景美\n",
      "update  Stock_id:0050-玉山-新莊\n",
      "update  Stock_id:0050-永豐金-博愛\n",
      "Finish <class 'crawlers.models.BrokerTradeTW'>date:2018-01-04T00:00:00.000000000 bulk_create:0\n",
      "Finish <class 'crawlers.models.BrokerTradeTW'>date:2018-01-04T00:00:00.000000000 bulk_update:30\n",
      "0051\n",
      "update  Stock_id:0051-凱基\n",
      "update  Stock_id:0051-元大\n",
      "update  Stock_id:0051-臺銀-臺中\n",
      "update  Stock_id:0051-大昌-樹林\n",
      "update  Stock_id:0051-兆豐-城中\n",
      "update  Stock_id:0051-合庫-三重\n",
      "update  Stock_id:0051-元富-文心\n",
      "update  Stock_id:0051-日盛-新莊\n",
      "update  Stock_id:0051-元大-復北\n",
      "update  Stock_id:0051-群益金鼎-萬華\n",
      "update  Stock_id:0051-凱基-三重\n",
      "update  Stock_id:0051-華南永昌-鳳山\n",
      "update  Stock_id:0051-元大-開元\n",
      "update  Stock_id:0051-日盛-花蓮\n",
      "update  Stock_id:0051-臺銀-臺南\n",
      "Finish <class 'crawlers.models.BrokerTradeTW'>date:2018-01-04T00:00:00.000000000 bulk_create:0\n",
      "Finish <class 'crawlers.models.BrokerTradeTW'>date:2018-01-04T00:00:00.000000000 bulk_update:15\n",
      "0052\n",
      "update  Stock_id:0052-元大\n",
      "update  Stock_id:0052-富邦-三重\n",
      "Finish <class 'crawlers.models.BrokerTradeTW'>date:2018-01-04T00:00:00.000000000 bulk_create:0\n",
      "Finish <class 'crawlers.models.BrokerTradeTW'>date:2018-01-04T00:00:00.000000000 bulk_update:2\n",
      "0053\n",
      "update  Stock_id:0053-台灣企銀\n",
      "update  Stock_id:0053-凱基\n",
      "update  Stock_id:0053-元大\n",
      "update  Stock_id:0053-富邦-台北\n",
      "update  Stock_id:0053-群益金鼎-天母\n",
      "update  Stock_id:0053-兆豐-台中\n",
      "update  Stock_id:0053-華南永昌\n",
      "update  Stock_id:0053-元大-新盛\n",
      "update  Stock_id:0053-元大-復北\n",
      "update  Stock_id:0053-合庫-西台中\n",
      "Finish <class 'crawlers.models.BrokerTradeTW'>date:2018-01-04T00:00:00.000000000 bulk_create:0\n",
      "Finish <class 'crawlers.models.BrokerTradeTW'>date:2018-01-04T00:00:00.000000000 bulk_update:10\n",
      "0054\n",
      "update  Stock_id:0054-彰銀-台中\n",
      "update  Stock_id:0054-元大\n",
      "update  Stock_id:0054-富邦-北投\n",
      "update  Stock_id:0054-日盛-忠孝\n",
      "update  Stock_id:0054-臺銀\n",
      "update  Stock_id:0054-兆豐-忠孝\n",
      "update  Stock_id:0054-中國信託-文心\n",
      "Finish <class 'crawlers.models.BrokerTradeTW'>date:2018-01-04T00:00:00.000000000 bulk_create:0\n",
      "Finish <class 'crawlers.models.BrokerTradeTW'>date:2018-01-04T00:00:00.000000000 bulk_update:7\n",
      "0050\n",
      "update  Stock_id:0050-港商麥格理\n",
      "update  Stock_id:0050-美林\n",
      "update  Stock_id:0050-元富\n",
      "update  Stock_id:0050-統一\n",
      "update  Stock_id:0050-摩根大通\n",
      "update  Stock_id:0050-華南永昌\n",
      "update  Stock_id:0050-台灣摩根士丹利\n",
      "update  Stock_id:0050-日盛\n",
      "update  Stock_id:0050-第一金-桃園\n",
      "update  Stock_id:0050-兆豐-忠孝\n",
      "update  Stock_id:0050-國票-和平\n",
      "update  Stock_id:0050-群益金鼎\n",
      "update  Stock_id:0050-永豐金\n",
      "update  Stock_id:0050-土銀-台南\n",
      "update  Stock_id:0050-日盛-雙和\n",
      "update  Stock_id:0050-元大\n",
      "update  Stock_id:0050-凱基\n",
      "update  Stock_id:0050-國泰\n",
      "update  Stock_id:0050-新光\n",
      "update  Stock_id:0050-合庫\n",
      "update  Stock_id:0050-永豐金-古亭\n",
      "update  Stock_id:0050-兆豐\n",
      "update  Stock_id:0050-新光-台中\n",
      "update  Stock_id:0050-臺銀-新竹\n",
      "update  Stock_id:0050-犇亞-鑫豐\n",
      "update  Stock_id:0050-玉山-新竹\n",
      "update  Stock_id:0050-日盛-台南\n",
      "update  Stock_id:0050-土銀-新竹\n",
      "update  Stock_id:0050-新光-桃園\n",
      "update  Stock_id:0050-富邦-民生\n",
      "Finish <class 'crawlers.models.BrokerTradeTW'>date:2018-01-05T00:00:00.000000000 bulk_create:0\n",
      "Finish <class 'crawlers.models.BrokerTradeTW'>date:2018-01-05T00:00:00.000000000 bulk_update:30\n",
      "0051\n",
      "update  Stock_id:0051-凱基\n",
      "update  Stock_id:0051-統一-台中\n",
      "update  Stock_id:0051-元大\n",
      "update  Stock_id:0051-元大-龍潭\n",
      "update  Stock_id:0051-玉山\n",
      "update  Stock_id:0051-元大-忠孝\n",
      "update  Stock_id:0051-永豐金-苓雅\n",
      "update  Stock_id:0051-元富-虎尾\n",
      "update  Stock_id:0051-元大-豐原\n",
      "update  Stock_id:0051-陽信-石牌\n",
      "update  Stock_id:0051-元大-復北\n",
      "update  Stock_id:0051-群益金鼎-永和\n",
      "update  Stock_id:0051-富邦-仁愛\n",
      "update  Stock_id:0051-凱基-幸福\n",
      "update  Stock_id:0051-凱基-東港\n",
      "update  Stock_id:0051-新光\n",
      "Finish <class 'crawlers.models.BrokerTradeTW'>date:2018-01-05T00:00:00.000000000 bulk_create:0\n",
      "Finish <class 'crawlers.models.BrokerTradeTW'>date:2018-01-05T00:00:00.000000000 bulk_update:16\n",
      "0052\n",
      "update  Stock_id:0052-群益金鼎-新竹\n",
      "update  Stock_id:0052-富邦-民生\n",
      "update  Stock_id:0052-元富\n",
      "update  Stock_id:0052-元大\n",
      "update  Stock_id:0052-台新-高雄\n",
      "Finish <class 'crawlers.models.BrokerTradeTW'>date:2018-01-05T00:00:00.000000000 bulk_create:0\n",
      "Finish <class 'crawlers.models.BrokerTradeTW'>date:2018-01-05T00:00:00.000000000 bulk_update:5\n",
      "0053\n",
      "update  Stock_id:0053-元大-新盛\n",
      "update  Stock_id:0053-玉山-大里\n",
      "update  Stock_id:0053-新光\n",
      "update  Stock_id:0053-元大\n",
      "update  Stock_id:0053-永豐金-中和\n",
      "update  Stock_id:0053-永豐金\n",
      "update  Stock_id:0053-富邦-仁愛\n",
      "Finish <class 'crawlers.models.BrokerTradeTW'>date:2018-01-05T00:00:00.000000000 bulk_create:0\n",
      "Finish <class 'crawlers.models.BrokerTradeTW'>date:2018-01-05T00:00:00.000000000 bulk_update:7\n",
      "0054\n",
      "update  Stock_id:0054-元富\n",
      "update  Stock_id:0054-凱基\n",
      "update  Stock_id:0054-群益金鼎-天母\n",
      "update  Stock_id:0054-元大-新盛\n",
      "update  Stock_id:0054-元大\n",
      "Finish <class 'crawlers.models.BrokerTradeTW'>date:2018-01-05T00:00:00.000000000 bulk_create:0\n",
      "Finish <class 'crawlers.models.BrokerTradeTW'>date:2018-01-05T00:00:00.000000000 bulk_update:5\n",
      "fail, check if 2018-01-06 is a holiday\n"
     ]
    }
   ],
   "source": [
    "C7=CrawlerProcess(CrawlBrokerTradeTW,'crawl_main',BrokerTradeTW,'date_range',nest=True)\n",
    "print(C7)\n",
    "# 指定日期區間爬蟲\n",
    "C7.specified_date_crawl('2018-1-3','2018-1-6')\n",
    "# a=CrawlBrokerTradeTW(datetime.datetime(2018,1,2))\n",
    "# # a.broker_trade('1101')\n",
    "# a.crawl_main()"
   ]
  },
  {
   "cell_type": "code",
   "execution_count": null,
   "metadata": {},
   "outputs": [],
   "source": [
    "def aa(*args):\n",
    "    print(args)\n",
    "\n",
    "class A:\n",
    "    def __init__(self,*args):\n",
    "        self.k=args\n",
    "    def cc(self):\n",
    "        aa(*self.k)\n",
    "        \n",
    "        "
   ]
  },
  {
   "cell_type": "code",
   "execution_count": null,
   "metadata": {},
   "outputs": [],
   "source": [
    "s=A('a','b')\n",
    "s.cc()"
   ]
  },
  {
   "cell_type": "code",
   "execution_count": null,
   "metadata": {},
   "outputs": [],
   "source": [
    "aa(*('a','b'))"
   ]
  },
  {
   "cell_type": "code",
   "execution_count": null,
   "metadata": {},
   "outputs": [],
   "source": [
    "def aa(*args):\n",
    "    print(args)"
   ]
  }
 ],
 "metadata": {
  "kernelspec": {
   "display_name": "Django Shell-Plus",
   "language": "python",
   "name": "django_extensions"
  },
  "language_info": {
   "codemirror_mode": {
    "name": "ipython",
    "version": 3
   },
   "file_extension": ".py",
   "mimetype": "text/x-python",
   "name": "python",
   "nbconvert_exporter": "python",
   "pygments_lexer": "ipython3",
   "version": "3.7.4"
  }
 },
 "nbformat": 4,
 "nbformat_minor": 2
}
