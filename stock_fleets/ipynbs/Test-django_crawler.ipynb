{
 "cells": [
  {
   "cell_type": "code",
   "execution_count": null,
   "metadata": {},
   "outputs": [],
   "source": [
    "#pycharm 測試\n",
    "import sys,os\n",
    "sys.path.append(\"..\")\n",
    "import django\n",
    "django.setup()\n",
    "from crawlers.finlab.pioneers import *\n",
    "from crawlers.models import *\n",
    "from crawlers.finlab.import_tools import *"
   ]
  },
  {
   "cell_type": "markdown",
   "metadata": {},
   "source": [
    "#  台股股價"
   ]
  },
  {
   "cell_type": "code",
   "execution_count": 2,
   "metadata": {},
   "outputs": [
    {
     "name": "stdout",
     "output_type": "stream",
     "text": [
      "stock_price_tw \n",
      "table_earliest_date:2004-02-11\n",
      "table_latest_date:2020-07-10\n",
      "fail, check if 2020-07-11 00:00:00 is a holiday\n",
      "fail, check if 2020-07-12 00:00:00 is a holiday\n",
      "Finish <class 'crawlers.models.StockPriceTW'>date:2020-07-13 bulk_create:1998\n",
      "Finish <class 'crawlers.models.StockPriceTW'>date:2020-07-13 bulk_update:0\n",
      "Finish 2020-07-13 00:00:00 Data\n"
     ]
    }
   ],
   "source": [
    "C1=CrawlerProcess(CrawlStockPriceTW,'crawl_main' ,StockPriceTW,'date_range')\n",
    "print(C1)\n",
    "\n",
    "# # 指定日期區間爬蟲\n",
    "# C1.specified_date_crawl('2020-1-27','2020-12-31')\n",
    "\n",
    "# 自動爬蟲\n",
    "C1.auto_update_crawl()"
   ]
  },
  {
   "cell_type": "markdown",
   "metadata": {},
   "source": [
    "#  台股月營收"
   ]
  },
  {
   "cell_type": "code",
   "execution_count": null,
   "metadata": {},
   "outputs": [],
   "source": [
    "C2=CrawlerProcess(CrawlMonthlyRevnueTW,'crawl_main',MonthlyRevenueTW,'month_range')\n",
    "print(C2)\n",
    "C2.auto_update_crawl()"
   ]
  },
  {
   "cell_type": "markdown",
   "metadata": {},
   "source": [
    "#  台股企業基本資訊\n",
    "\n",
    "非時間序列資料，使用add_to_sql()匯入"
   ]
  },
  {
   "cell_type": "code",
   "execution_count": null,
   "metadata": {
    "scrolled": false
   },
   "outputs": [],
   "source": [
    "C3=CrawlCompanyBasicInfoTW()\n",
    "AddToSQL.add_to_sql(CompanyBasicInfoTW, C3.crawl_main(),pk_columns=['stock_id'])"
   ]
  },
  {
   "cell_type": "markdown",
   "metadata": {},
   "source": [
    "# 台股指數點值資訊"
   ]
  },
  {
   "cell_type": "code",
   "execution_count": null,
   "metadata": {},
   "outputs": [],
   "source": [
    "C4=CrawlerProcess(CrawlStockIndexPriceTW,'crawl_main' ,StockIndexPriceTW,'date_range')\n",
    "print(C4)\n",
    "\n",
    "# 指定日期區間爬蟲\n",
    "C4.specified_date_crawl('2009-1-4','2009-1-5')\n",
    "\n",
    "# #自動爬蟲\n",
    "# C4.auto_update_crawl()"
   ]
  },
  {
   "cell_type": "markdown",
   "metadata": {},
   "source": [
    "# 台股指數成交量暨統計資訊"
   ]
  },
  {
   "cell_type": "code",
   "execution_count": null,
   "metadata": {},
   "outputs": [],
   "source": [
    "C5=CrawlerProcess(CrawlStockIndexVolTW,'crawl_main' ,StockIndexVolTW,'date_range')\n",
    "print(C5)\n",
    "\n",
    "# 指定日期區間爬蟲\n",
    "C5.specified_date_crawl('2009-1-1','2009-1-3')\n",
    "\n",
    "#自動爬蟲\n",
    "# C5.auto_update_crawl()"
   ]
  },
  {
   "cell_type": "markdown",
   "metadata": {},
   "source": [
    "# 台股券商資訊"
   ]
  },
  {
   "cell_type": "code",
   "execution_count": null,
   "metadata": {},
   "outputs": [],
   "source": [
    "C6=CrawlBrokerInfoTW()\n",
    "AddToSQL.add_to_sql(BrokerInfoTW, C6.crawl_main())"
   ]
  },
  {
   "cell_type": "code",
   "execution_count": null,
   "metadata": {},
   "outputs": [],
   "source": [
    "update_xy_data(CompanyBasicInfoTW,100)"
   ]
  },
  {
   "cell_type": "markdown",
   "metadata": {},
   "source": [
    "# 券商分點進出"
   ]
  },
  {
   "cell_type": "code",
   "execution_count": null,
   "metadata": {
    "scrolled": true
   },
   "outputs": [],
   "source": [
    "C7=CrawlerProcess(CrawlBrokerTradeTW,'crawl_main',BrokerTradeTW,'date_range',time_sleep=15,\n",
    "                  nest=False,pk_columns=['stock_id', 'date', 'broker_name'],\n",
    "                  fk_columns=[{'broker_name': 'broker_name'}, {'stock_id': 'stock_id'}],\n",
    "                  jump_update=True)\n",
    "print(C7)\n",
    "C7.auto_update_crawl(jump=True)\n",
    "\n",
    "\n",
    "# C7=CrawlerProcess(CrawlBrokerTradeTW,'crawl_main',BrokerTradeTW,'date_range',time_sleep=10,\n",
    "#                   nest=True)\n",
    "# print(C7)\n",
    "# C7.auto_update_crawl(jump=False)\n",
    "\n",
    "# 指定日期區間爬蟲\n",
    "# C7.specified_date_crawl('2018-1-3','2018-3-4')\n",
    "# a=CrawlBrokerTradeTW(datetime.datetime(2018,1,2))\n",
    "# # a.broker_trade('1101')\n",
    "# a.crawl_main()"
   ]
  },
  {
   "cell_type": "markdown",
   "metadata": {},
   "source": [
    "# 台股法人買賣超現貨明細"
   ]
  },
  {
   "cell_type": "code",
   "execution_count": null,
   "metadata": {},
   "outputs": [],
   "source": [
    "C8=CrawlerProcess(CrawlStockTiiTW,'crawl_main' ,StockTiiTW,'date_range')\n",
    "print(C8)\n",
    "\n",
    "# 指定日期區間爬蟲\n",
    "C8.specified_date_crawl('2018-3-18','2018-12-31')"
   ]
  },
  {
   "cell_type": "markdown",
   "metadata": {},
   "source": [
    "# 台股法人買賣超現貨日統計"
   ]
  },
  {
   "cell_type": "code",
   "execution_count": null,
   "metadata": {},
   "outputs": [],
   "source": [
    "C9=CrawlerProcess(CrawlStockTiiMarketReportTW,'crawl_main',StockTiiMarketReportTW,'date_range',pkcolumns=['stock_id', 'date','market'])\n",
    "print(C9)\n",
    "\n",
    "# 指定日期區間爬蟲\n",
    "C9.specified_date_crawl('2020-1-2','2020-4-30')\n",
    "# df=CrawlStockTiiMarketReportTW(datetime.datetime(2020,4,29)).crawl_main()\n",
    "# add_to_sql(StockTiiMarketReportTW,df)"
   ]
  },
  {
   "cell_type": "markdown",
   "metadata": {},
   "source": [
    "# 集保餘額"
   ]
  },
  {
   "cell_type": "code",
   "execution_count": null,
   "metadata": {},
   "outputs": [],
   "source": [
    "C10=CrawlStockTdccTW()\n",
    "print(C10)\n",
    "AddToSQL.add_to_sql(StockTdccTW, C10.crawl_main(),pk_columns=['stock_id','date','hold_class'],jump_create=True)\n",
    "# AddToSQL.get_fk_field_names(StockTdccTW)"
   ]
  },
  {
   "cell_type": "markdown",
   "metadata": {},
   "source": [
    "# 融資交易明細"
   ]
  },
  {
   "cell_type": "code",
   "execution_count": null,
   "metadata": {},
   "outputs": [],
   "source": [
    "C11=CrawlerProcess(CrawlStockMarginTransactionsTW,'crawl_main',StockMarginTransactionsTW,'date_range')\n",
    "print(C11)\n",
    "\n",
    "# 指定日期區間爬蟲\n",
    "C11.specified_date_crawl('2018-2-15','2019-12-31')\n",
    "\n"
   ]
  },
  {
   "cell_type": "markdown",
   "metadata": {},
   "source": [
    "#  本益比"
   ]
  },
  {
   "cell_type": "code",
   "execution_count": null,
   "metadata": {},
   "outputs": [],
   "source": [
    "C13=CrawlerProcess(CrawlStock3PRatioTW,'crawl_main',Stock3PRatioTW,'date_range',time_sleep=12)\n",
    "print(C13)\n",
    "C13.auto_update_crawl()\n",
    "# C13.specified_date_crawl('2009-1-5','2020-5-8')"
   ]
  },
  {
   "cell_type": "markdown",
   "metadata": {},
   "source": [
    "# 除權息還原"
   ]
  },
  {
   "cell_type": "code",
   "execution_count": 3,
   "metadata": {},
   "outputs": [
    {
     "name": "stdout",
     "output_type": "stream",
     "text": [
      "<crawlers.finlab.pioneers.CrawlStockDivideRatioTW object at 0x11755a9d0>\n",
      "Finish <class 'crawlers.models.StockDivideRatioTW'>date:2020-01-16T00:00:00.000000000 bulk_create:0\n",
      "Finish <class 'crawlers.models.StockDivideRatioTW'>date:2020-01-16T00:00:00.000000000 bulk_update:740\n"
     ]
    }
   ],
   "source": [
    "C14=CrawlStockDivideRatioTW()\n",
    "print(C14)\n",
    "AddToSQL.add_to_sql(StockDivideRatioTW, C14.crawl_main(),pk_columns=['stock_id','date','divide_category'])"
   ]
  },
  {
   "cell_type": "code",
   "execution_count": null,
   "metadata": {},
   "outputs": [],
   "source": []
  }
 ],
 "metadata": {
  "kernelspec": {
   "display_name": "Django Shell-Plus",
   "language": "python",
   "name": "django_extensions"
  },
  "language_info": {
   "codemirror_mode": {
    "name": "ipython",
    "version": 3
   },
   "file_extension": ".py",
   "mimetype": "text/x-python",
   "name": "python",
   "nbconvert_exporter": "python",
   "pygments_lexer": "ipython3",
   "version": "3.7.4"
  }
 },
 "nbformat": 4,
 "nbformat_minor": 2
}
