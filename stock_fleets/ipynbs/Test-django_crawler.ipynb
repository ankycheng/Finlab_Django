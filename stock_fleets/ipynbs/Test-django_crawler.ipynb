{
 "cells": [
  {
   "cell_type": "code",
   "execution_count": 1,
   "metadata": {},
   "outputs": [],
   "source": [
    "#pycharm 測試\n",
    "import sys,os\n",
    "sys.path.append(\"..\")\n",
    "import django\n",
    "django.setup()\n",
    "from crawlers.finlab.pioneers import *\n",
    "from crawlers.models import *\n",
    "from crawlers.finlab.import_tools import *"
   ]
  },
  {
   "cell_type": "markdown",
   "metadata": {},
   "source": [
    "#  台股股價"
   ]
  },
  {
   "cell_type": "code",
   "execution_count": null,
   "metadata": {},
   "outputs": [],
   "source": [
    "C1=CrawlerProcess(CrawlStockPriceTW,'crawl_main' ,StockPriceTW,'date_range')\n",
    "print(C1)\n",
    "\n",
    "# # 指定日期區間爬蟲\n",
    "# C1.specified_date_crawl('2020-4-14','2020-4-15')\n",
    "\n",
    "#自動爬蟲\n",
    "C1.auto_update_crawl()"
   ]
  },
  {
   "cell_type": "markdown",
   "metadata": {},
   "source": [
    "#  台股月營收"
   ]
  },
  {
   "cell_type": "code",
   "execution_count": null,
   "metadata": {},
   "outputs": [],
   "source": [
    "C2=CrawlerProcess(CrawlMonthlyRevnueTW,'crawl_main',MonthlyRevenueTW,'month_range')\n",
    "print(C2)\n",
    "C2.auto_update_crawl()"
   ]
  },
  {
   "cell_type": "markdown",
   "metadata": {},
   "source": [
    "#  台股企業基本資訊\n",
    "\n",
    "非時間序列資料，使用add_to_sql()匯入"
   ]
  },
  {
   "cell_type": "code",
   "execution_count": null,
   "metadata": {
    "scrolled": false
   },
   "outputs": [],
   "source": [
    "C3=CrawlCompanyBasicInfoTW()\n",
    "AddToSQL.add_to_sql(CompanyBasicInfoTW, C3.crawl_main(),pk_columns=['stock_id'])"
   ]
  },
  {
   "cell_type": "markdown",
   "metadata": {},
   "source": [
    "# 台股指數點值資訊"
   ]
  },
  {
   "cell_type": "code",
   "execution_count": null,
   "metadata": {},
   "outputs": [],
   "source": [
    "C4=CrawlerProcess(CrawlStockIndexPriceTW,'crawl_main' ,StockIndexPriceTW,'date_range')\n",
    "print(C4)\n",
    "\n",
    "# 指定日期區間爬蟲\n",
    "C4.specified_date_crawl('2009-1-4','2009-1-5')\n",
    "\n",
    "# #自動爬蟲\n",
    "# C4.auto_update_crawl()"
   ]
  },
  {
   "cell_type": "markdown",
   "metadata": {},
   "source": [
    "# 台股指數成交量暨統計資訊"
   ]
  },
  {
   "cell_type": "code",
   "execution_count": null,
   "metadata": {},
   "outputs": [],
   "source": [
    "C5=CrawlerProcess(CrawlStockIndexVolTW,'crawl_main' ,StockIndexVolTW,'date_range')\n",
    "print(C5)\n",
    "\n",
    "# 指定日期區間爬蟲\n",
    "C5.specified_date_crawl('2009-1-1','2009-1-3')\n",
    "\n",
    "#自動爬蟲\n",
    "# C5.auto_update_crawl()"
   ]
  },
  {
   "cell_type": "markdown",
   "metadata": {},
   "source": [
    "# 台股券商資訊"
   ]
  },
  {
   "cell_type": "code",
   "execution_count": null,
   "metadata": {},
   "outputs": [],
   "source": [
    "C6=CrawlBrokerInfoTW()\n",
    "AddToSQL.add_to_sql(BrokerInfoTW, C6.crawl_main())"
   ]
  },
  {
   "cell_type": "code",
   "execution_count": null,
   "metadata": {},
   "outputs": [],
   "source": [
    "update_xy_data(CompanyBasicInfoTW,100)"
   ]
  },
  {
   "cell_type": "markdown",
   "metadata": {},
   "source": [
    "# 券商分點進出"
   ]
  },
  {
   "cell_type": "code",
   "execution_count": 3,
   "metadata": {
    "scrolled": true
   },
   "outputs": [
    {
     "name": "stdout",
     "output_type": "stream",
     "text": [
      "crawlers_brokertradetw \n",
      "table_earliest_date:2018-01-03\n",
      "table_latest_date:2020-02-18\n",
      "Finish <class 'crawlers.models.BrokerTradeTW'>date:2020-02-19 bulk_create:46907\n",
      "Finish <class 'crawlers.models.BrokerTradeTW'>date:2020-02-19 bulk_update:0\n",
      "Finish 2020-02-19 00:00:00 Data\n",
      "Finish <class 'crawlers.models.BrokerTradeTW'>date:2020-02-20 bulk_create:47044\n",
      "Finish <class 'crawlers.models.BrokerTradeTW'>date:2020-02-20 bulk_update:0\n",
      "Finish 2020-02-20 00:00:00 Data\n",
      "Finish <class 'crawlers.models.BrokerTradeTW'>date:2020-02-21 bulk_create:46776\n",
      "Finish <class 'crawlers.models.BrokerTradeTW'>date:2020-02-21 bulk_update:0\n",
      "Finish 2020-02-21 00:00:00 Data\n",
      "fail, check if 2020-02-22 00:00:00 is a holiday\n",
      "fail, check if 2020-02-23 00:00:00 is a holiday\n",
      "Finish <class 'crawlers.models.BrokerTradeTW'>date:2020-02-24 bulk_create:48068\n",
      "Finish <class 'crawlers.models.BrokerTradeTW'>date:2020-02-24 bulk_update:0\n",
      "Finish 2020-02-24 00:00:00 Data\n",
      "Finish <class 'crawlers.models.BrokerTradeTW'>date:2020-02-25 bulk_create:47901\n",
      "Finish <class 'crawlers.models.BrokerTradeTW'>date:2020-02-25 bulk_update:0\n",
      "Finish 2020-02-25 00:00:00 Data\n",
      "Finish <class 'crawlers.models.BrokerTradeTW'>date:2020-02-26 bulk_create:47174\n",
      "Finish <class 'crawlers.models.BrokerTradeTW'>date:2020-02-26 bulk_update:0\n",
      "Finish 2020-02-26 00:00:00 Data\n",
      "Finish <class 'crawlers.models.BrokerTradeTW'>date:2020-02-27 bulk_create:49284\n",
      "Finish <class 'crawlers.models.BrokerTradeTW'>date:2020-02-27 bulk_update:0\n",
      "Finish 2020-02-27 00:00:00 Data\n",
      "fail, check if 2020-02-28 00:00:00 is a holiday\n",
      "fail, check if 2020-02-29 00:00:00 is a holiday\n",
      "fail, check if 2020-03-01 00:00:00 is a holiday\n",
      "Finish <class 'crawlers.models.BrokerTradeTW'>date:2020-03-02 bulk_create:49823\n",
      "Finish <class 'crawlers.models.BrokerTradeTW'>date:2020-03-02 bulk_update:0\n",
      "Finish 2020-03-02 00:00:00 Data\n",
      "Finish <class 'crawlers.models.BrokerTradeTW'>date:2020-03-03 bulk_create:48006\n",
      "Finish <class 'crawlers.models.BrokerTradeTW'>date:2020-03-03 bulk_update:0\n",
      "Finish 2020-03-03 00:00:00 Data\n",
      "Finish <class 'crawlers.models.BrokerTradeTW'>date:2020-03-04 bulk_create:46664\n",
      "Finish <class 'crawlers.models.BrokerTradeTW'>date:2020-03-04 bulk_update:0\n",
      "Finish 2020-03-04 00:00:00 Data\n",
      "Finish <class 'crawlers.models.BrokerTradeTW'>date:2020-03-05 bulk_create:47544\n",
      "Finish <class 'crawlers.models.BrokerTradeTW'>date:2020-03-05 bulk_update:0\n",
      "Finish 2020-03-05 00:00:00 Data\n",
      "Finish <class 'crawlers.models.BrokerTradeTW'>date:2020-03-06 bulk_create:47749\n",
      "Finish <class 'crawlers.models.BrokerTradeTW'>date:2020-03-06 bulk_update:0\n",
      "Finish 2020-03-06 00:00:00 Data\n",
      "fail, check if 2020-03-07 00:00:00 is a holiday\n",
      "fail, check if 2020-03-08 00:00:00 is a holiday\n",
      "Finish <class 'crawlers.models.BrokerTradeTW'>date:2020-03-09 bulk_create:51026\n",
      "Finish <class 'crawlers.models.BrokerTradeTW'>date:2020-03-09 bulk_update:0\n",
      "Finish 2020-03-09 00:00:00 Data\n",
      "Finish <class 'crawlers.models.BrokerTradeTW'>date:2020-03-10 bulk_create:50771\n",
      "Finish <class 'crawlers.models.BrokerTradeTW'>date:2020-03-10 bulk_update:0\n",
      "Finish 2020-03-10 00:00:00 Data\n",
      "Finish <class 'crawlers.models.BrokerTradeTW'>date:2020-03-11 bulk_create:48757\n",
      "Finish <class 'crawlers.models.BrokerTradeTW'>date:2020-03-11 bulk_update:0\n",
      "Finish 2020-03-11 00:00:00 Data\n",
      "Finish <class 'crawlers.models.BrokerTradeTW'>date:2020-03-12 bulk_create:52479\n",
      "Finish <class 'crawlers.models.BrokerTradeTW'>date:2020-03-12 bulk_update:0\n",
      "Finish 2020-03-12 00:00:00 Data\n",
      "Finish <class 'crawlers.models.BrokerTradeTW'>date:2020-03-13 bulk_create:53299\n",
      "Finish <class 'crawlers.models.BrokerTradeTW'>date:2020-03-13 bulk_update:0\n",
      "Finish 2020-03-13 00:00:00 Data\n",
      "fail, check if 2020-03-14 00:00:00 is a holiday\n",
      "fail, check if 2020-03-15 00:00:00 is a holiday\n",
      "Finish <class 'crawlers.models.BrokerTradeTW'>date:2020-03-16 bulk_create:50946\n",
      "Finish <class 'crawlers.models.BrokerTradeTW'>date:2020-03-16 bulk_update:0\n",
      "Finish 2020-03-16 00:00:00 Data\n",
      "Finish <class 'crawlers.models.BrokerTradeTW'>date:2020-03-17 bulk_create:51170\n",
      "Finish <class 'crawlers.models.BrokerTradeTW'>date:2020-03-17 bulk_update:0\n",
      "Finish 2020-03-17 00:00:00 Data\n",
      "Finish <class 'crawlers.models.BrokerTradeTW'>date:2020-03-18 bulk_create:50380\n",
      "Finish <class 'crawlers.models.BrokerTradeTW'>date:2020-03-18 bulk_update:0\n",
      "Finish 2020-03-18 00:00:00 Data\n",
      "Finish <class 'crawlers.models.BrokerTradeTW'>date:2020-03-19 bulk_create:52948\n",
      "Finish <class 'crawlers.models.BrokerTradeTW'>date:2020-03-19 bulk_update:0\n",
      "Finish 2020-03-19 00:00:00 Data\n",
      "Finish <class 'crawlers.models.BrokerTradeTW'>date:2020-03-20 bulk_create:50824\n",
      "Finish <class 'crawlers.models.BrokerTradeTW'>date:2020-03-20 bulk_update:0\n",
      "Finish 2020-03-20 00:00:00 Data\n",
      "fail, check if 2020-03-21 00:00:00 is a holiday\n",
      "fail, check if 2020-03-22 00:00:00 is a holiday\n",
      "Finish <class 'crawlers.models.BrokerTradeTW'>date:2020-03-23 bulk_create:47733\n",
      "Finish <class 'crawlers.models.BrokerTradeTW'>date:2020-03-23 bulk_update:0\n",
      "Finish 2020-03-23 00:00:00 Data\n",
      "Finish <class 'crawlers.models.BrokerTradeTW'>date:2020-03-24 bulk_create:49054\n",
      "Finish <class 'crawlers.models.BrokerTradeTW'>date:2020-03-24 bulk_update:0\n",
      "Finish 2020-03-24 00:00:00 Data\n",
      "Finish <class 'crawlers.models.BrokerTradeTW'>date:2020-03-25 bulk_create:50448\n",
      "Finish <class 'crawlers.models.BrokerTradeTW'>date:2020-03-25 bulk_update:0\n",
      "Finish 2020-03-25 00:00:00 Data\n",
      "Finish <class 'crawlers.models.BrokerTradeTW'>date:2020-03-26 bulk_create:48060\n",
      "Finish <class 'crawlers.models.BrokerTradeTW'>date:2020-03-26 bulk_update:0\n",
      "Finish 2020-03-26 00:00:00 Data\n",
      "Finish <class 'crawlers.models.BrokerTradeTW'>date:2020-03-27 bulk_create:49385\n",
      "Finish <class 'crawlers.models.BrokerTradeTW'>date:2020-03-27 bulk_update:0\n",
      "Finish 2020-03-27 00:00:00 Data\n",
      "fail, check if 2020-03-28 00:00:00 is a holiday\n",
      "fail, check if 2020-03-29 00:00:00 is a holiday\n",
      "Finish <class 'crawlers.models.BrokerTradeTW'>date:2020-03-30 bulk_create:46447\n",
      "Finish <class 'crawlers.models.BrokerTradeTW'>date:2020-03-30 bulk_update:0\n",
      "Finish 2020-03-30 00:00:00 Data\n",
      "Finish <class 'crawlers.models.BrokerTradeTW'>date:2020-03-31 bulk_create:47405\n",
      "Finish <class 'crawlers.models.BrokerTradeTW'>date:2020-03-31 bulk_update:0\n",
      "Finish 2020-03-31 00:00:00 Data\n",
      "Finish <class 'crawlers.models.BrokerTradeTW'>date:2020-04-01 bulk_create:46740\n",
      "Finish <class 'crawlers.models.BrokerTradeTW'>date:2020-04-01 bulk_update:0\n",
      "Finish 2020-04-01 00:00:00 Data\n",
      "fail, check if 2020-04-02 00:00:00 is a holiday\n",
      "fail, check if 2020-04-03 00:00:00 is a holiday\n",
      "fail, check if 2020-04-04 00:00:00 is a holiday\n",
      "fail, check if 2020-04-05 00:00:00 is a holiday\n",
      "Finish <class 'crawlers.models.BrokerTradeTW'>date:2020-04-06 bulk_create:47026\n",
      "Finish <class 'crawlers.models.BrokerTradeTW'>date:2020-04-06 bulk_update:0\n",
      "Finish 2020-04-06 00:00:00 Data\n",
      "Finish <class 'crawlers.models.BrokerTradeTW'>date:2020-04-07 bulk_create:48873\n",
      "Finish <class 'crawlers.models.BrokerTradeTW'>date:2020-04-07 bulk_update:0\n",
      "Finish 2020-04-07 00:00:00 Data\n",
      "Finish <class 'crawlers.models.BrokerTradeTW'>date:2020-04-08 bulk_create:49228\n",
      "Finish <class 'crawlers.models.BrokerTradeTW'>date:2020-04-08 bulk_update:0\n",
      "Finish 2020-04-08 00:00:00 Data\n",
      "Finish <class 'crawlers.models.BrokerTradeTW'>date:2020-04-09 bulk_create:49136\n",
      "Finish <class 'crawlers.models.BrokerTradeTW'>date:2020-04-09 bulk_update:0\n",
      "Finish 2020-04-09 00:00:00 Data\n",
      "Finish <class 'crawlers.models.BrokerTradeTW'>date:2020-04-10 bulk_create:48219\n",
      "Finish <class 'crawlers.models.BrokerTradeTW'>date:2020-04-10 bulk_update:0\n",
      "Finish 2020-04-10 00:00:00 Data\n",
      "fail, check if 2020-04-11 00:00:00 is a holiday\n",
      "fail, check if 2020-04-12 00:00:00 is a holiday\n",
      "Finish <class 'crawlers.models.BrokerTradeTW'>date:2020-04-13 bulk_create:48291\n",
      "Finish <class 'crawlers.models.BrokerTradeTW'>date:2020-04-13 bulk_update:0\n",
      "Finish 2020-04-13 00:00:00 Data\n",
      "Finish <class 'crawlers.models.BrokerTradeTW'>date:2020-04-14 bulk_create:49468\n",
      "Finish <class 'crawlers.models.BrokerTradeTW'>date:2020-04-14 bulk_update:0\n",
      "Finish 2020-04-14 00:00:00 Data\n",
      "Finish <class 'crawlers.models.BrokerTradeTW'>date:2020-04-15 bulk_create:50130\n",
      "Finish <class 'crawlers.models.BrokerTradeTW'>date:2020-04-15 bulk_update:0\n",
      "Finish 2020-04-15 00:00:00 Data\n",
      "Finish <class 'crawlers.models.BrokerTradeTW'>date:2020-04-16 bulk_create:48729\n",
      "Finish <class 'crawlers.models.BrokerTradeTW'>date:2020-04-16 bulk_update:0\n",
      "Finish 2020-04-16 00:00:00 Data\n"
     ]
    },
    {
     "name": "stdout",
     "output_type": "stream",
     "text": [
      "Finish <class 'crawlers.models.BrokerTradeTW'>date:2020-04-17 bulk_create:50446\n",
      "Finish <class 'crawlers.models.BrokerTradeTW'>date:2020-04-17 bulk_update:0\n",
      "Finish 2020-04-17 00:00:00 Data\n",
      "fail, check if 2020-04-18 00:00:00 is a holiday\n",
      "fail, check if 2020-04-19 00:00:00 is a holiday\n",
      "Finish <class 'crawlers.models.BrokerTradeTW'>date:2020-04-20 bulk_create:47438\n",
      "Finish <class 'crawlers.models.BrokerTradeTW'>date:2020-04-20 bulk_update:0\n",
      "Finish 2020-04-20 00:00:00 Data\n",
      "Finish <class 'crawlers.models.BrokerTradeTW'>date:2020-04-21 bulk_create:48973\n",
      "Finish <class 'crawlers.models.BrokerTradeTW'>date:2020-04-21 bulk_update:0\n",
      "Finish 2020-04-21 00:00:00 Data\n",
      "Finish <class 'crawlers.models.BrokerTradeTW'>date:2020-04-22 bulk_create:45917\n",
      "Finish <class 'crawlers.models.BrokerTradeTW'>date:2020-04-22 bulk_update:0\n",
      "Finish 2020-04-22 00:00:00 Data\n",
      "Finish <class 'crawlers.models.BrokerTradeTW'>date:2020-04-23 bulk_create:46356\n",
      "Finish <class 'crawlers.models.BrokerTradeTW'>date:2020-04-23 bulk_update:0\n",
      "Finish 2020-04-23 00:00:00 Data\n",
      "HTTPConnectionPool(host='www.twse.com.tw', port=80): Max retries exceeded with url: /exchangeReport/MI_INDEX?response=csv&date=20200424&type=ALLBUT0999 (Caused by NewConnectionError('<urllib3.connection.HTTPConnection object at 0x11daaa9d0>: Failed to establish a new connection: [Errno 61] Connection refused'))\n"
     ]
    }
   ],
   "source": [
    "C7=CrawlerProcess(CrawlBrokerTradeTW,'crawl_main',BrokerTradeTW,'date_range',time_sleep=10,\n",
    "                  nest=False,pk_columns=['stock_id', 'date', 'broker_name'],\n",
    "                  fk_columns=[{'broker_name': 'broker_name'}, {'stock_id': 'stock_id'}],\n",
    "                  jump_update=True)\n",
    "print(C7)\n",
    "C7.auto_update_crawl(jump=True)\n",
    "\n",
    "\n",
    "# C7=CrawlerProcess(CrawlBrokerTradeTW,'crawl_main',BrokerTradeTW,'date_range',time_sleep=10,\n",
    "#                   nest=True)\n",
    "# print(C7)\n",
    "# C7.auto_update_crawl(jump=False)\n",
    "\n",
    "# 指定日期區間爬蟲\n",
    "# C7.specified_date_crawl('2018-1-3','2018-3-4')\n",
    "# a=CrawlBrokerTradeTW(datetime.datetime(2018,1,2))\n",
    "# # a.broker_trade('1101')\n",
    "# a.crawl_main()"
   ]
  },
  {
   "cell_type": "markdown",
   "metadata": {},
   "source": [
    "# 台股法人買賣超現貨明細"
   ]
  },
  {
   "cell_type": "code",
   "execution_count": null,
   "metadata": {},
   "outputs": [],
   "source": [
    "C8=CrawlerProcess(CrawlStockTiiTW,'crawl_main' ,StockTiiTW,'date_range')\n",
    "print(C8)\n",
    "\n",
    "# 指定日期區間爬蟲\n",
    "C8.specified_date_crawl('2018-3-18','2018-12-31')"
   ]
  },
  {
   "cell_type": "markdown",
   "metadata": {},
   "source": [
    "# 台股法人買賣超現貨日統計"
   ]
  },
  {
   "cell_type": "code",
   "execution_count": null,
   "metadata": {},
   "outputs": [],
   "source": [
    "C9=CrawlerProcess(CrawlStockTiiMarketReportTW,'crawl_main',StockTiiMarketReportTW,'date_range')\n",
    "print(C9)\n",
    "\n",
    "# 指定日期區間爬蟲\n",
    "C9.specified_date_crawl('2020-1-2','2020-4-30')\n",
    "# df=CrawlStockTiiMarketReportTW(datetime.datetime(2020,4,29)).crawl_main()\n",
    "# add_to_sql(StockTiiMarketReportTW,df)"
   ]
  },
  {
   "cell_type": "markdown",
   "metadata": {},
   "source": [
    "# 集保餘額"
   ]
  },
  {
   "cell_type": "code",
   "execution_count": null,
   "metadata": {},
   "outputs": [],
   "source": [
    "C10=CrawlStockTdccTW()\n",
    "print(C10)\n",
    "AddToSQL.add_to_sql(StockTdccTW, C10.crawl_main(),pk_columns=['stock_id','date','hold_class'],jump_create=True)\n",
    "# AddToSQL.get_fk_field_names(StockTdccTW)"
   ]
  },
  {
   "cell_type": "markdown",
   "metadata": {},
   "source": [
    "# 融資交易明細"
   ]
  },
  {
   "cell_type": "code",
   "execution_count": null,
   "metadata": {},
   "outputs": [],
   "source": [
    "C11=CrawlerProcess(CrawlStockMarginTransactionsTW,'crawl_main',StockMarginTransactionsTW,'date_range')\n",
    "print(C11)\n",
    "\n",
    "# 指定日期區間爬蟲\n",
    "C11.specified_date_crawl('2018-2-15','2019-12-31')\n",
    "\n"
   ]
  },
  {
   "cell_type": "markdown",
   "metadata": {},
   "source": [
    "#  本益比"
   ]
  },
  {
   "cell_type": "code",
   "execution_count": null,
   "metadata": {},
   "outputs": [],
   "source": [
    "C13=CrawlerProcess(CrawlStock3PRatioTW,'crawl_main',Stock3PRatioTW,'date_range',time_sleep=12)\n",
    "print(C13)\n",
    "C13.auto_update_crawl()\n",
    "# C13.specified_date_crawl('2009-1-5','2020-5-8')"
   ]
  }
 ],
 "metadata": {
  "kernelspec": {
   "display_name": "Django Shell-Plus",
   "language": "python",
   "name": "django_extensions"
  },
  "language_info": {
   "codemirror_mode": {
    "name": "ipython",
    "version": 3
   },
   "file_extension": ".py",
   "mimetype": "text/x-python",
   "name": "python",
   "nbconvert_exporter": "python",
   "pygments_lexer": "ipython3",
   "version": "3.7.4"
  }
 },
 "nbformat": 4,
 "nbformat_minor": 2
}
