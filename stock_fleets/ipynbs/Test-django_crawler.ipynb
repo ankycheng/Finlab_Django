{
 "cells": [
  {
   "cell_type": "code",
   "execution_count": 1,
   "metadata": {},
   "outputs": [],
   "source": [
    "#pycharm 測試\n",
    "import sys,os\n",
    "sys.path.append(\"..\")\n",
    "import django\n",
    "django.setup()\n",
    "from crawlers.finlab.pioneers import *\n",
    "from crawlers.models import *\n",
    "from crawlers.finlab.import_tools import *\n",
    "import logging\n",
    "\n",
    "\n",
    "logging.basicConfig(level=logging.INFO)"
   ]
  },
  {
   "cell_type": "markdown",
   "metadata": {},
   "source": [
    "#  台股股價"
   ]
  },
  {
   "cell_type": "code",
   "execution_count": 5,
   "metadata": {},
   "outputs": [
    {
     "name": "stderr",
     "output_type": "stream",
     "text": [
      "INFO:root:stock_price_tw \n",
      "table_earliest_date:2004-02-11\n",
      "table_latest_date:2020-07-13\n",
      "INFO:crawlers.finlab.import_tools:Finish <class 'crawlers.models.StockPriceTW'>date:2020-07-14 bulk_create:2246\n",
      "INFO:crawlers.finlab.import_tools:Finish <class 'crawlers.models.StockPriceTW'>date:2020-07-14 bulk_update:0\n",
      "INFO:crawlers.finlab.import_tools:Finish 2020-07-14 00:00:00 Data\n",
      "INFO:crawlers.finlab.import_tools:Finish <class 'crawlers.models.StockPriceTW'>date:2020-07-15 bulk_create:2246\n",
      "INFO:crawlers.finlab.import_tools:Finish <class 'crawlers.models.StockPriceTW'>date:2020-07-15 bulk_update:0\n",
      "INFO:crawlers.finlab.import_tools:Finish 2020-07-15 00:00:00 Data\n",
      "INFO:crawlers.finlab.import_tools:Finish <class 'crawlers.models.StockPriceTW'>date:2020-07-16 bulk_create:2246\n",
      "INFO:crawlers.finlab.import_tools:Finish <class 'crawlers.models.StockPriceTW'>date:2020-07-16 bulk_update:0\n",
      "INFO:crawlers.finlab.import_tools:Finish 2020-07-16 00:00:00 Data\n",
      "INFO:crawlers.finlab.import_tools:Finish <class 'crawlers.models.StockPriceTW'>date:2020-07-17 bulk_create:2246\n",
      "INFO:crawlers.finlab.import_tools:Finish <class 'crawlers.models.StockPriceTW'>date:2020-07-17 bulk_update:0\n",
      "INFO:crawlers.finlab.import_tools:Finish 2020-07-17 00:00:00 Data\n",
      "ERROR:crawlers.finlab.import_tools:fail, check if 2020-07-18 00:00:00 is a holiday\n",
      "ERROR:crawlers.finlab.import_tools:fail, check if 2020-07-19 00:00:00 is a holiday\n",
      "INFO:crawlers.finlab.import_tools:Finish <class 'crawlers.models.StockPriceTW'>date:2020-07-20 bulk_create:2248\n",
      "INFO:crawlers.finlab.import_tools:Finish <class 'crawlers.models.StockPriceTW'>date:2020-07-20 bulk_update:0\n",
      "INFO:crawlers.finlab.import_tools:Finish 2020-07-20 00:00:00 Data\n",
      "INFO:crawlers.finlab.import_tools:Finish <class 'crawlers.models.StockPriceTW'>date:2020-07-21 bulk_create:2248\n",
      "INFO:crawlers.finlab.import_tools:Finish <class 'crawlers.models.StockPriceTW'>date:2020-07-21 bulk_update:0\n",
      "INFO:crawlers.finlab.import_tools:Finish 2020-07-21 00:00:00 Data\n",
      "INFO:crawlers.finlab.import_tools:Finish <class 'crawlers.models.StockPriceTW'>date:2020-07-22 bulk_create:2249\n",
      "INFO:crawlers.finlab.import_tools:Finish <class 'crawlers.models.StockPriceTW'>date:2020-07-22 bulk_update:0\n",
      "INFO:crawlers.finlab.import_tools:Finish 2020-07-22 00:00:00 Data\n",
      "INFO:crawlers.finlab.import_tools:Finish <class 'crawlers.models.StockPriceTW'>date:2020-07-23 bulk_create:2250\n",
      "INFO:crawlers.finlab.import_tools:Finish <class 'crawlers.models.StockPriceTW'>date:2020-07-23 bulk_update:0\n",
      "INFO:crawlers.finlab.import_tools:Finish 2020-07-23 00:00:00 Data\n",
      "INFO:crawlers.finlab.import_tools:Finish <class 'crawlers.models.StockPriceTW'>date:2020-07-24 bulk_create:2249\n",
      "INFO:crawlers.finlab.import_tools:Finish <class 'crawlers.models.StockPriceTW'>date:2020-07-24 bulk_update:0\n",
      "INFO:crawlers.finlab.import_tools:Finish 2020-07-24 00:00:00 Data\n",
      "ERROR:crawlers.finlab.import_tools:fail, check if 2020-07-25 00:00:00 is a holiday\n",
      "ERROR:crawlers.finlab.import_tools:fail, check if 2020-07-26 00:00:00 is a holiday\n",
      "ERROR:crawlers.finlab.import_tools:fail, check if 2020-07-27 00:00:00 is a holiday\n",
      "INFO:root:None\n"
     ]
    }
   ],
   "source": [
    "C1=CrawlerProcess(CrawlStockPriceTW,'crawl_main' ,StockPriceTW,'date_range')\n",
    "logging.info(C1)\n",
    "\n",
    "# # 指定日期區間爬蟲\n",
    "# C1.specified_date_crawl('2020-1-27','2020-12-31')\n",
    "\n",
    "# 自動爬蟲\n",
    "logging.info(C1.auto_update_crawl())"
   ]
  },
  {
   "cell_type": "markdown",
   "metadata": {},
   "source": [
    "#  台股月營收"
   ]
  },
  {
   "cell_type": "code",
   "execution_count": 3,
   "metadata": {},
   "outputs": [
    {
     "name": "stdout",
     "output_type": "stream",
     "text": [
      "monthly_revenue_tw \n",
      "table_earliest_date:2001-07-10\n",
      "table_latest_date:2020-07-10\n"
     ]
    },
    {
     "name": "stderr",
     "output_type": "stream",
     "text": [
      "INFO:crawlers.finlab.import_tools:Finish <class 'crawlers.models.MonthlyRevenueTW'>date:2015-06-10T00:00:00.000000000 bulk_create:1711\n",
      "INFO:crawlers.finlab.import_tools:Finish <class 'crawlers.models.MonthlyRevenueTW'>date:2015-06-10T00:00:00.000000000 bulk_update:0\n",
      "INFO:crawlers.finlab.import_tools:Finish 2015-06-10 00:00:00 Data\n"
     ]
    }
   ],
   "source": [
    "C2=CrawlerProcess(CrawlMonthlyRevnueTW,'crawl_main',MonthlyRevenueTW,'month_range')\n",
    "print(C2)\n",
    "C2.specified_date_crawl('2015-5-10','2015-6-10')\n",
    "# C2.auto_update_crawl()"
   ]
  },
  {
   "cell_type": "markdown",
   "metadata": {},
   "source": [
    "#  台股企業基本資訊\n",
    "\n",
    "非時間序列資料，使用add_to_sql()匯入"
   ]
  },
  {
   "cell_type": "code",
   "execution_count": 2,
   "metadata": {
    "scrolled": false
   },
   "outputs": [
    {
     "name": "stderr",
     "output_type": "stream",
     "text": [
      "INFO:crawlers.finlab.import_tools:Finish <class 'crawlers.models.CompanyBasicInfoTW'>date:2020-07-23 15:22:40.007512 bulk_create:3\n",
      "INFO:crawlers.finlab.import_tools:Finish <class 'crawlers.models.CompanyBasicInfoTW'>date:2020-07-23 15:22:40.007512 bulk_update:1982\n"
     ]
    }
   ],
   "source": [
    "C3=CrawlCompanyBasicInfoTW()\n",
    "AddToSQL.add_to_sql(CompanyBasicInfoTW, C3.crawl_main(),pk_columns=['stock_id'])"
   ]
  },
  {
   "cell_type": "markdown",
   "metadata": {},
   "source": [
    "# 台股指數點值資訊"
   ]
  },
  {
   "cell_type": "code",
   "execution_count": null,
   "metadata": {},
   "outputs": [],
   "source": [
    "C4=CrawlerProcess(CrawlStockIndexPriceTW,'crawl_main' ,StockIndexPriceTW,'date_range')\n",
    "print(C4)\n",
    "\n",
    "# 指定日期區間爬蟲\n",
    "C4.specified_date_crawl('2009-1-4','2009-1-5')\n",
    "\n",
    "# #自動爬蟲\n",
    "# C4.auto_update_crawl()"
   ]
  },
  {
   "cell_type": "markdown",
   "metadata": {},
   "source": [
    "# 台股指數成交量暨統計資訊"
   ]
  },
  {
   "cell_type": "code",
   "execution_count": null,
   "metadata": {},
   "outputs": [],
   "source": [
    "C5=CrawlerProcess(CrawlStockIndexVolTW,'crawl_main' ,StockIndexVolTW,'date_range')\n",
    "print(C5)\n",
    "\n",
    "# 指定日期區間爬蟲\n",
    "C5.specified_date_crawl('2009-1-1','2009-1-3')\n",
    "\n",
    "#自動爬蟲\n",
    "# C5.auto_update_crawl()"
   ]
  },
  {
   "cell_type": "markdown",
   "metadata": {},
   "source": [
    "# 台股券商資訊"
   ]
  },
  {
   "cell_type": "code",
   "execution_count": null,
   "metadata": {},
   "outputs": [],
   "source": [
    "C6=CrawlBrokerInfoTW()\n",
    "AddToSQL.add_to_sql(BrokerInfoTW, C6.crawl_main())"
   ]
  },
  {
   "cell_type": "code",
   "execution_count": null,
   "metadata": {},
   "outputs": [],
   "source": [
    "update_xy_data(CompanyBasicInfoTW,100)"
   ]
  },
  {
   "cell_type": "markdown",
   "metadata": {},
   "source": [
    "# 券商分點進出"
   ]
  },
  {
   "cell_type": "code",
   "execution_count": 3,
   "metadata": {
    "scrolled": true
   },
   "outputs": [
    {
     "name": "stdout",
     "output_type": "stream",
     "text": [
      "broker_trade_tw \n",
      "table_earliest_date:2018-01-03\n",
      "table_latest_date:2020-07-24\n"
     ]
    },
    {
     "name": "stderr",
     "output_type": "stream",
     "text": [
      "ERROR:crawlers.finlab.import_tools:fail, check if 2020-07-25 00:00:00 is a holiday\n",
      "ERROR:crawlers.finlab.import_tools:fail, check if 2020-07-26 00:00:00 is a holiday\n",
      "INFO:crawlers.finlab.import_tools:Finish <class 'crawlers.models.BrokerTradeTW'>date:2020-07-27 bulk_create:50876\n",
      "INFO:crawlers.finlab.import_tools:Finish <class 'crawlers.models.BrokerTradeTW'>date:2020-07-27 bulk_update:0\n",
      "INFO:crawlers.finlab.import_tools:Finish 2020-07-27 00:00:00 Data\n",
      "INFO:crawlers.finlab.import_tools:Finish <class 'crawlers.models.BrokerTradeTW'>date:2020-07-28 bulk_create:51244\n",
      "INFO:crawlers.finlab.import_tools:Finish <class 'crawlers.models.BrokerTradeTW'>date:2020-07-28 bulk_update:0\n",
      "INFO:crawlers.finlab.import_tools:Finish 2020-07-28 00:00:00 Data\n",
      "INFO:crawlers.finlab.import_tools:Finish <class 'crawlers.models.BrokerTradeTW'>date:2020-07-29 bulk_create:48721\n",
      "INFO:crawlers.finlab.import_tools:Finish <class 'crawlers.models.BrokerTradeTW'>date:2020-07-29 bulk_update:0\n",
      "INFO:crawlers.finlab.import_tools:Finish 2020-07-29 00:00:00 Data\n",
      "INFO:crawlers.finlab.import_tools:Finish <class 'crawlers.models.BrokerTradeTW'>date:2020-07-30 bulk_create:48720\n",
      "INFO:crawlers.finlab.import_tools:Finish <class 'crawlers.models.BrokerTradeTW'>date:2020-07-30 bulk_update:0\n",
      "INFO:crawlers.finlab.import_tools:Finish 2020-07-30 00:00:00 Data\n",
      "INFO:crawlers.finlab.import_tools:Finish <class 'crawlers.models.BrokerTradeTW'>date:2020-07-31 bulk_create:48159\n",
      "INFO:crawlers.finlab.import_tools:Finish <class 'crawlers.models.BrokerTradeTW'>date:2020-07-31 bulk_update:0\n",
      "INFO:crawlers.finlab.import_tools:Finish 2020-07-31 00:00:00 Data\n",
      "ERROR:crawlers.finlab.import_tools:fail, check if 2020-08-01 00:00:00 is a holiday\n",
      "ERROR:crawlers.finlab.import_tools:fail, check if 2020-08-02 00:00:00 is a holiday\n"
     ]
    }
   ],
   "source": [
    "C7=CrawlerProcess(CrawlBrokerTradeTW,'crawl_main',BrokerTradeTW,'date_range',time_sleep=15,\n",
    "                  nest=False,pk_columns=['stock_id', 'date', 'broker_name'],\n",
    "                  fk_columns=[{'broker_name': 'broker_name'}, {'stock_id': 'stock_id'}],\n",
    "                  jump_update=True)\n",
    "print(C7)\n",
    "C7.auto_update_crawl(jump=True)\n",
    "\n",
    "\n",
    "# C7=CrawlerProcess(CrawlBrokerTradeTW,'crawl_main',BrokerTradeTW,'date_range',time_sleep=10,\n",
    "#                   nest=True)\n",
    "# print(C7)\n",
    "# C7.auto_update_crawl(jump=False)\n",
    "\n",
    "# 指定日期區間爬蟲\n",
    "# C7.specified_date_crawl('2018-1-3','2018-3-4')\n",
    "# a=CrawlBrokerTradeTW(datetime.datetime(2018,1,2))\n",
    "# # a.broker_trade('1101')\n",
    "# a.crawl_main()"
   ]
  },
  {
   "cell_type": "markdown",
   "metadata": {},
   "source": [
    "# 台股法人買賣超現貨明細"
   ]
  },
  {
   "cell_type": "code",
   "execution_count": null,
   "metadata": {},
   "outputs": [],
   "source": [
    "C8=CrawlerProcess(CrawlStockTiiTW,'crawl_main' ,StockTiiTW,'date_range')\n",
    "print(C8)\n",
    "\n",
    "# 指定日期區間爬蟲\n",
    "C8.specified_date_crawl('2018-3-18','2018-12-31')"
   ]
  },
  {
   "cell_type": "markdown",
   "metadata": {},
   "source": [
    "# 台股法人買賣超現貨日統計"
   ]
  },
  {
   "cell_type": "code",
   "execution_count": null,
   "metadata": {},
   "outputs": [],
   "source": [
    "C9=CrawlerProcess(CrawlStockTiiMarketReportTW,'crawl_main',StockTiiMarketReportTW,'date_range',pkcolumns=['stock_id', 'date','market'])\n",
    "print(C9)\n",
    "\n",
    "# 指定日期區間爬蟲\n",
    "C9.specified_date_crawl('2020-1-2','2020-4-30')\n",
    "# df=CrawlStockTiiMarketReportTW(datetime.datetime(2020,4,29)).crawl_main()\n",
    "# add_to_sql(StockTiiMarketReportTW,df)"
   ]
  },
  {
   "cell_type": "markdown",
   "metadata": {},
   "source": [
    "# 集保餘額"
   ]
  },
  {
   "cell_type": "code",
   "execution_count": 2,
   "metadata": {},
   "outputs": [
    {
     "name": "stdout",
     "output_type": "stream",
     "text": [
      "<crawlers.finlab.pioneers.CrawlStockTdccTW object at 0x11efbafd0>\n"
     ]
    },
    {
     "name": "stderr",
     "output_type": "stream",
     "text": [
      "INFO:crawlers.finlab.import_tools:Finish <class 'crawlers.models.StockTdccTW'>date:2020-07-31T00:00:00.000000000 bulk_create:43456\n",
      "INFO:crawlers.finlab.import_tools:Finish <class 'crawlers.models.StockTdccTW'>date:2020-07-31T00:00:00.000000000 bulk_update:0\n"
     ]
    }
   ],
   "source": [
    "C10=CrawlStockTdccTW()\n",
    "print(C10)\n",
    "AddToSQL.add_to_sql(StockTdccTW, C10.crawl_main(),pk_columns=['stock_id','date','hold_class'],jump_create=True)\n",
    "# AddToSQL.get_fk_field_names(StockTdccTW)"
   ]
  },
  {
   "cell_type": "markdown",
   "metadata": {},
   "source": [
    "# 融資交易明細"
   ]
  },
  {
   "cell_type": "code",
   "execution_count": null,
   "metadata": {},
   "outputs": [],
   "source": [
    "C11=CrawlerProcess(CrawlStockMarginTransactionsTW,'crawl_main',StockMarginTransactionsTW,'date_range')\n",
    "\n",
    "# 指定日期區間爬蟲\n",
    "C11.specified_date_crawl('2018-2-15','2019-12-31')\n",
    "\n"
   ]
  },
  {
   "cell_type": "markdown",
   "metadata": {},
   "source": [
    "#  本益比"
   ]
  },
  {
   "cell_type": "code",
   "execution_count": null,
   "metadata": {},
   "outputs": [],
   "source": [
    "C13=CrawlerProcess(CrawlStock3PRatioTW,'crawl_main',Stock3PRatioTW,'date_range',time_sleep=12)\n",
    "C13.auto_update_crawl()\n",
    "# C13.specified_date_crawl('2009-1-5','2020-5-8')"
   ]
  },
  {
   "cell_type": "markdown",
   "metadata": {},
   "source": [
    "# 除權息還原"
   ]
  },
  {
   "cell_type": "code",
   "execution_count": null,
   "metadata": {},
   "outputs": [],
   "source": [
    "C14=CrawlStockDivideRatioTW()\n",
    "AddToSQL.add_to_sql(StockDivideRatioTW, C14.crawl_main(),pk_columns=['stock_id','date','divide_category'])"
   ]
  },
  {
   "cell_type": "code",
   "execution_count": null,
   "metadata": {},
   "outputs": [],
   "source": []
  }
 ],
 "metadata": {
  "kernelspec": {
   "display_name": "Django Shell-Plus",
   "language": "python",
   "name": "django_extensions"
  },
  "language_info": {
   "codemirror_mode": {
    "name": "ipython",
    "version": 3
   },
   "file_extension": ".py",
   "mimetype": "text/x-python",
   "name": "python",
   "nbconvert_exporter": "python",
   "pygments_lexer": "ipython3",
   "version": "3.7.4"
  }
 },
 "nbformat": 4,
 "nbformat_minor": 2
}
