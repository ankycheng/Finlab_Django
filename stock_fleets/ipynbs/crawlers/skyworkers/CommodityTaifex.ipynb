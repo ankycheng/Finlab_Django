{
 "cells": [
  {
   "cell_type": "code",
   "execution_count": null,
   "metadata": {},
   "outputs": [],
   "source": [
    "import sys,os\n",
    "sys.path.append(\"..\")\n",
    "import django\n",
    "django.setup()\n",
    "import pandas as pd\n",
    "from io import StringIO\n",
    "import requests\n",
    "import datetime\n",
    "pd.set_option(\"display.max_rows\", None)"
   ]
  },
  {
   "cell_type": "code",
   "execution_count": null,
   "metadata": {},
   "outputs": [],
   "source": [
    "class CrawlCommodityTaifex:\n",
    "    @classmethod\n",
    "    def stock_relate(cls):\n",
    "        r = requests.post('https://www.taifex.com.tw/cht/2/stockLists')\n",
    "        r.encoding = 'utf8'\n",
    "        lines = r.text.replace('\\r', '').split('\\n')\n",
    "        content = \"\\n\".join(lines)\n",
    "        df = pd.read_html(StringIO(content))\n",
    "        df=pd.DataFrame(df[0])\n",
    "        df=df.astype(str)\n",
    "        df['證券代號']=df['證券代號'].apply(lambda s:s[:-2])\n",
    "        df.iloc[:,4:9]=df.iloc[:,4:9].replace('●',1).replace('◎',1).replace('nan',0)\n",
    "        df['標準型證券股數']=df['標準型證券股數'].apply(lambda s:pd.to_numeric(s, errors='coerce'))\n",
    "        df=df.drop(columns=['標的證券'])\n",
    "        df['標的證券簡稱']=df['標的證券簡稱'].apply(lambda s:s+'期')\n",
    "        df=df.rename(columns={k:v for k,v in zip(df.columns,['stock_id','spot_id','stock_name','check_fc',\n",
    "                                                             'check_opt','check_sii','check_otc','check_etf',\n",
    "                                                             'spot_unit'])}) \n",
    "        df['spot_id']= df['spot_id'].apply(lambda s: '00' + s if len(s) < 4 else s)\n",
    "\n",
    "        return df.iloc[:-1]\n",
    "    \n",
    "    @staticmethod\n",
    "    def modify_df(df):\n",
    "        if '中文簡稱.1' in df.columns:\n",
    "            df['中文簡稱']=[a if a==b else a+b  for a,b in zip(df['中文簡稱'].values,df['中文簡稱.1'].values)]\n",
    "            df=df.drop(columns=['中文簡稱.1'])\n",
    "        return df\n",
    "    \n",
    "    @classmethod\n",
    "    def normal(cls):\n",
    "        r = requests.post('https://www.taifex.com.tw/cht/4/contractName')\n",
    "        r.encoding = 'utf8'\n",
    "        lines = r.text.replace('\\r', '').split('\\n')\n",
    "        content = \"\\n\".join(lines)\n",
    "        df = pd.read_html(StringIO(content))\n",
    "        df_all=pd.concat([cls.modify_df(pd.DataFrame(df[i])) for i in range(len(df) )])\n",
    "        df_all=df_all.dropna(thresh=8,axis=1).dropna(how='any',axis=0)\n",
    "        df_all=df_all.rename(columns={k:v for k,v in zip(df_all.columns,['stock_name','stock_id'])})         \n",
    "        return df_all\n",
    "    \n",
    "    @classmethod    \n",
    "    def crawl_main(cls):\n",
    "        try:\n",
    "            df = pd.concat([cls.stock_relate(), cls.normal()])\n",
    "            df.iloc[:,3:8]=df.iloc[:,3:8].fillna(0)\n",
    "        except ValueError:\n",
    "            return None\n",
    "        return df    \n",
    "    \n",
    "df=CrawlCommodityTaifex.crawl_main()\n",
    "df"
   ]
  },
  {
   "cell_type": "code",
   "execution_count": null,
   "metadata": {},
   "outputs": [],
   "source": []
  }
 ],
 "metadata": {
  "kernelspec": {
   "display_name": "Django Shell-Plus",
   "language": "python",
   "name": "django_extensions"
  },
  "language_info": {
   "codemirror_mode": {
    "name": "ipython",
    "version": 3
   },
   "file_extension": ".py",
   "mimetype": "text/x-python",
   "name": "python",
   "nbconvert_exporter": "python",
   "pygments_lexer": "ipython3",
   "version": "3.7.4"
  }
 },
 "nbformat": 4,
 "nbformat_minor": 2
}
