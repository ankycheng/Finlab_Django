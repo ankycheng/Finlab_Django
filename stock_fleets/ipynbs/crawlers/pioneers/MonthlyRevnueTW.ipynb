{
 "cells": [
  {
   "cell_type": "code",
   "execution_count": 1,
   "metadata": {},
   "outputs": [],
   "source": [
    "import sys,os\n",
    "sys.path.append(\"..\")\n",
    "import django\n",
    "django.setup()\n",
    "import datetime\n",
    "import pandas as pd\n",
    "import requests\n",
    "from io import StringIO\n",
    "from crawlers.finlab.data_process_tools import last_month\n",
    "from crawlers.finlab.pioneers import *\n",
    "from crawlers.finlab.import_tools import *\n"
   ]
  },
  {
   "cell_type": "code",
   "execution_count": null,
   "metadata": {},
   "outputs": [],
   "source": [
    "class CrawlMonthlyRevnueTW:\n",
    "    def __init__(self,date):\n",
    "        self.date=date\n",
    "        self.target_name = \"台股月營收資訊\"\n",
    "        self.sub_market = [\"sii\", \"otc\", \"rotc\"]\n",
    "\n",
    "\n",
    "\n",
    "    def crawl_main(self):\n",
    "        url_date = last_month(self.date)\n",
    "        data = []\n",
    "        for i in self.sub_market:\n",
    "\n",
    "            url = 'https://mops.twse.com.tw/nas/t21/' + i + '/t21sc03_' + str(url_date.year - 1911) + '_' + str(\n",
    "                url_date.month) + '.html'\n",
    "            # 偽瀏覽器\n",
    "            headers = {\n",
    "                'User-Agent': 'Mozilla/5.0 (Macintosh; Intel Mac OS X 10_10_1) AppleWebKit/537.36 (KHTML, like Gecko)'\n",
    "                              ' Chrome/39.0.2171.95 Safari/537.36'}\n",
    "\n",
    "            # 下載該年月的網站，並用pandas轉換成 dataframe\n",
    "            try:\n",
    "                r = requests.get(url, headers=headers)\n",
    "                r.encoding = 'big5'\n",
    "                html_df = pd.read_html(StringIO(r.text))\n",
    "                # 處理一下資料\n",
    "                if html_df[0].shape[0] > 500:\n",
    "                    df = html_df[0].copy()\n",
    "                else:\n",
    "                    df = pd.concat([df for df in html_df if (df.shape[1] <= 11) and (df.shape[1] > 5)])\n",
    "\n",
    "                if 'levels' in dir(df.columns):\n",
    "                    df.columns = df.columns.get_level_values(1)\n",
    "                else:\n",
    "                    df = df[list(range(0, 10))]\n",
    "                    column_index = df.index[(df[0] == '公司代號')][0]\n",
    "                    df.columns = df.iloc[column_index]\n",
    "\n",
    "                df['當月營收'] = pd.to_numeric(df['當月營收'], 'coerce')\n",
    "                df = df[~df['當月營收'].isnull()]\n",
    "                df = df[df['公司代號'] != '合計']\n",
    "\n",
    "                df['date'] = datetime.date(self.date.year, self.date.month, 10)\n",
    "\n",
    "                df = df.rename(columns={'公司代號': 'stock_id'})\n",
    "                df = df.set_index(['stock_id', 'date'])\n",
    "\n",
    "                data.append(df)\n",
    "            except Exception as e:\n",
    "                print(e)\n",
    "                print(print(f'market:{i}**WARRN: Pandas cannot find any table in the HTML file'))\n",
    "                pass\n",
    "        df = pd.concat(data)\n",
    "        if '備註' not in df.columns:\n",
    "            df['備註'] = None\n",
    "        df.iloc[:, 1:-1] = df.iloc[:, 1:-1].apply(lambda s: pd.to_numeric(s, errors='coerce'))\n",
    "        df = df[df['公司名稱'] != '總計']\n",
    "        df = df.where(pd.notnull(df), None)\n",
    "        df = df.rename(columns={'公司名稱': \"stock_name\", \"當月營收\": \"this_month_rev\",\n",
    "                                '上月營收': \"last_month_rev\", \"去年當月營收\": \"last_year_rev\",\n",
    "                                '上月比較增減(%)': \"cp_last_month_rev\", \"去年同月增減(%)\": \"cp_last_year_rev\",\n",
    "                                '當月累計營收': \"cm_this_month_rev\", \"去年累計營收\": \"cm_last_month_rev\",\n",
    "                                '前期比較增減(%)': \"cp_cm_rev\", \"備註\": \"note\",\n",
    "                                })\n",
    "        df = df.reset_index()\n",
    "\n",
    "        return df"
   ]
  },
  {
   "cell_type": "code",
   "execution_count": null,
   "metadata": {},
   "outputs": [],
   "source": [
    "C=CrawlMonthlyRevnueTW(datetime.datetime(2020,5,1))\n",
    "C.crawl_main()"
   ]
  },
  {
   "cell_type": "code",
   "execution_count": null,
   "metadata": {},
   "outputs": [],
   "source": [
    "#pycharm 測試\n",
    "import sys,os\n",
    "sys.path.append(\"..\")\n",
    "import django\n",
    "django.setup()\n",
    "from crawlers.models import *\n",
    "# from crawlers.finlab.pioneers import *\n",
    "# from crawlers.finlab.import_tools import *"
   ]
  },
  {
   "cell_type": "code",
   "execution_count": null,
   "metadata": {
    "scrolled": false
   },
   "outputs": [],
   "source": [
    "add_to_sql(CompanyBasicInfoTW, df)"
   ]
  },
  {
   "cell_type": "code",
   "execution_count": null,
   "metadata": {},
   "outputs": [],
   "source": []
  }
 ],
 "metadata": {
  "kernelspec": {
   "display_name": "Django Shell-Plus",
   "language": "python",
   "name": "django_extensions"
  },
  "language_info": {
   "codemirror_mode": {
    "name": "ipython",
    "version": 3
   },
   "file_extension": ".py",
   "mimetype": "text/x-python",
   "name": "python",
   "nbconvert_exporter": "python",
   "pygments_lexer": "ipython3",
   "version": "3.7.4"
  }
 },
 "nbformat": 4,
 "nbformat_minor": 2
}
