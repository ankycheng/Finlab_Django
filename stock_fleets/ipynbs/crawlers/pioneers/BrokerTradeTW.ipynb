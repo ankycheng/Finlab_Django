{
 "cells": [
  {
   "cell_type": "code",
   "execution_count": null,
   "metadata": {},
   "outputs": [],
   "source": [
    "import sys,os\n",
    "sys.path.append(\"..\")\n",
    "import django\n",
    "django.setup()\n",
    "import pandas as pd\n",
    "from io import StringIO\n",
    "import requests\n",
    "import datetime\n",
    "from crawlers.models import *\n",
    "from crawlers.finlab.pioneers import *\n",
    "from crawlers.finlab.import_tools import *\n",
    "import time\n",
    "pd.set_option(\"display.max_rows\", None)"
   ]
  },
  {
   "cell_type": "code",
   "execution_count": null,
   "metadata": {
    "scrolled": false
   },
   "outputs": [],
   "source": [
    "class CrawlBrokerTradeTW:\n",
    "    \n",
    "    def __init__(self,start_date):\n",
    "        self.start_date = start_date\n",
    "        self.start_date_str = start_date.strftime(\"%Y-%m-%d\")\n",
    "        self.target_name = \"台股分點進出資訊\"\n",
    "        self.format = \"time_series\"\n",
    "        \n",
    "    \n",
    "    def check_trade_day(self):\n",
    "        stock_range=CrawlStockPriceTW(self.start_date)\n",
    "        try:\n",
    "            df=list(pd.concat([stock_range.crawl_sii(),stock_range.crawl_otc()])['stock_id'].values)\n",
    "            return df\n",
    "        except ValueError:\n",
    "            return None\n",
    "        \n",
    "    def broker_trade(self,stock_id):\n",
    "        print(stock_id)\n",
    "        url='http://jsjustweb.jihsun.com.tw/z/zc/zco/zco.djhtm?a='+stock_id+'&e='+self.start_date_str+'&f='+self.start_date_str\n",
    "        # http://jsjustweb.jihsun.com.tw/z/zc/zco/zco.djhtm\n",
    "        # https://fubon-ebrokerdj.fbs.com.tw/z/zc/zco/zco.djhtm\n",
    "        r = requests.post(url)\n",
    "        html_df = pd.read_html(StringIO(r.text))\n",
    "        df = pd.DataFrame(html_df[2])\n",
    "        #holiday\n",
    "        if len(df)<9:\n",
    "            return  None\n",
    "        df.columns=df.iloc[5]\n",
    "        buy_net_avg_cost=float(df[df['買超券商']=='平均買超成本']['買超'].values[0])\n",
    "        sell_net_avg_cost=float(df[df['賣超券商']=='平均賣超成本']['賣超'].values[0])\n",
    "        df=df.iloc[6:-3]\n",
    "        buy_side=df.iloc[:,:5]\n",
    "        buy_side=buy_side.rename(columns={'買超券商':'broker_name','買進':'buy_num',\n",
    "                                          '賣出':'sell_num','買超':'net_bs',\n",
    "                                          '佔成交比重':'transactions_pt'})\n",
    "\n",
    "        sell_side=df.iloc[:,5:]\n",
    "        sell_side=sell_side.rename(columns={'賣超券商':'broker_name','買進':'buy_num',\n",
    "                                            '賣出':'sell_num','賣超':'net_bs',\n",
    "                                            '佔成交比重':'transactions_pt'})\n",
    "\n",
    "        df_all=pd.concat([buy_side,sell_side],sort=False).dropna()\n",
    "        df_all.iloc[:,1:]=df_all.iloc[:,1:].apply(lambda s: pd.to_numeric(s.str.replace('%',''), errors=\"coerce\"))\n",
    "        df_all['net_bs']=df_all['buy_num']-df_all['sell_num']\n",
    "        df_all['net_bs_cost']=[i*buy_net_avg_cost if i>0 else i*sell_net_avg_cost for i in df_all['net_bs']]\n",
    "        df_all['date'] = pd.to_datetime(self.start_date).date()\n",
    "        df_all['broker_name']=df_all['broker_name'].apply(lambda s:s.replace('證券','')).apply(lambda s:s.replace('(牛牛牛)','犇'))\n",
    "        df_all['stock_id']=str(stock_id)\n",
    "        AddToSQL.add_to_sql(BrokerTradeTW, df_all,['stock_id','date','broker_name'], [{'broker_name':'broker_name'},{'stock_id':'stock_id'}])\n",
    "        \n",
    "        return  df_all\n",
    "\n",
    "    def crawl_main(self):\n",
    "        crawl_list=self.check_trade_day()\n",
    "        if crawl_list is not None:\n",
    "            new_obj=BrokerTradeTW.objects.filter(date= self.start_date_str)\n",
    "            if len(new_obj)>0:\n",
    "                table_last_day=table_latest_date(engine, BrokerTradeTW._meta.db_table)\n",
    "                finish_obj=BrokerTradeTW.objects.filter(date=table_last_day)\n",
    "                last_stock_id=finish_obj[len(finish_obj)-1].stock_id\n",
    "                crawl_list=crawl_list[crawl_list.index(last_stock_id):]\n",
    "            for stock_id in crawl_list:\n",
    "                 self.broker_trade(stock_id)\n",
    "        else:\n",
    "            pass\n",
    "\n",
    "\n",
    "\n",
    "# a=CrawlBrokerTradeTW(datetime.datetime(2020,4,23))\n",
    "# a.broker_trade('00774B')\n",
    "# df=broker_trade(stock_id,datetime.datetime(2020,4,23),end_time=None)\n",
    "# df\n",
    "\n",
    "a=CrawlBrokerTradeTW(datetime.datetime(2018,1,29))\n",
    "# df=a.broker_trade('6263')\n",
    "# df\n",
    "a.crawl_main()"
   ]
  },
  {
   "cell_type": "code",
   "execution_count": null,
   "metadata": {},
   "outputs": [],
   "source": [
    "table_last_day=table_latest_date(engine, BrokerTradeTW._meta.db_table)\n",
    "finish_obj=BrokerTradeTW.objects.filter(date=table_last_day)\n",
    "last_stock_id=finish_obj[len(finish_obj)-1].stock_id\n",
    "last_stock_id"
   ]
  },
  {
   "cell_type": "code",
   "execution_count": null,
   "metadata": {},
   "outputs": [],
   "source": [
    "table_last_day=table_latest_date(engine, BrokerTradeTW._meta.db_table)\n",
    "table_last_day"
   ]
  },
  {
   "cell_type": "code",
   "execution_count": null,
   "metadata": {},
   "outputs": [],
   "source": [
    "datetime.datetime.strptime('2018-01-03', '%Y-%m-%d')"
   ]
  },
  {
   "cell_type": "code",
   "execution_count": null,
   "metadata": {},
   "outputs": [],
   "source": []
  }
 ],
 "metadata": {
  "kernelspec": {
   "display_name": "Django Shell-Plus",
   "language": "python",
   "name": "django_extensions"
  },
  "language_info": {
   "codemirror_mode": {
    "name": "ipython",
    "version": 3
   },
   "file_extension": ".py",
   "mimetype": "text/x-python",
   "name": "python",
   "nbconvert_exporter": "python",
   "pygments_lexer": "ipython3",
   "version": "3.7.4"
  }
 },
 "nbformat": 4,
 "nbformat_minor": 2
}
