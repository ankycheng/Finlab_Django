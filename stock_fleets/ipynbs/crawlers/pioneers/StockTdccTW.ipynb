{
 "cells": [
  {
   "cell_type": "code",
   "execution_count": 1,
   "metadata": {},
   "outputs": [],
   "source": [
    "import sys,os\n",
    "sys.path.append(\"..\")\n",
    "import django\n",
    "django.setup()\n",
    "import pandas as pd\n",
    "from io import StringIO\n",
    "import requests\n",
    "import datetime"
   ]
  },
  {
   "cell_type": "code",
   "execution_count": 27,
   "metadata": {},
   "outputs": [],
   "source": [
    "class CrawlStockTdccTW:\n",
    "    def __init__(self):\n",
    "        self.target_name = \"台股集保餘額資訊\"\n",
    "        self.sub_market = [\"sii\", \"otc\"]\n",
    "    \n",
    "    @classmethod\n",
    "    def crawl_main(cls,file=False):\n",
    "        if file is False:\n",
    "            headers = {'User-Agent': 'Mozilla/5.0 (Macintosh; Intel Mac OS X 10_1\\\n",
    "            0_1) AppleWebKit/537.36 (KHTML, like Gecko) Chrome/39.0.2171.95 Safari/537.36'}\n",
    "\n",
    "            res = requests.get(\"https://smart.tdcc.com.tw/opendata/getOD.ashx?id=1-5\", headers=headers)  \n",
    "            df = pd.read_csv(StringIO(res.text),encoding='utf-8')\n",
    "        else:\n",
    "            df=pd.read_csv(file)\n",
    "        print(file)\n",
    "        df=df.astype(str)\n",
    "        df=df[~df['證券代號'].str.contains('YY|YE')]\n",
    "        df=df.rename(columns={\n",
    "            '證券代號' :'stock_id','持股分級':'hold_class',\n",
    "            '人數':'people','股數':'hold_num','占集保庫存數比例%':'hold_pt'\n",
    "        })\n",
    "        if 'hold_pt' not in df.columns:\n",
    "            df=df.rename(columns={'佔集保庫存數比例%':'hold_pt'})        \n",
    "        df=df[df['hold_class']!='16']\n",
    "        df.iloc[:,2:6]=df.iloc[:,2:6].apply(lambda s: pd.to_numeric(s, errors=\"coerce\"))\n",
    "        df['date'] = df[df.columns[0]].apply(lambda s:datetime.datetime.strptime(s,'%Y%m%d').date())\n",
    "        df=df.drop(columns=df.columns[0])\n",
    "        return df\n",
    "    \n",
    "# df=CrawlStockTdccTW.crawl_main()\n",
    "# df"
   ]
  },
  {
   "cell_type": "markdown",
   "metadata": {},
   "source": [
    "# import old csv files"
   ]
  },
  {
   "cell_type": "code",
   "execution_count": 29,
   "metadata": {},
   "outputs": [
    {
     "data": {
      "text/plain": [
       "['/Users/benbilly3/Downloads/CSV/2016/1104.csv',\n",
       " '/Users/benbilly3/Downloads/CSV/2016/1118.csv',\n",
       " '/Users/benbilly3/Downloads/CSV/2016/1125.csv',\n",
       " '/Users/benbilly3/Downloads/CSV/2016/1230.csv',\n",
       " '/Users/benbilly3/Downloads/CSV/2016/1223.csv',\n",
       " '/Users/benbilly3/Downloads/CSV/2016/1209.csv']"
      ]
     },
     "execution_count": 29,
     "metadata": {},
     "output_type": "execute_result"
    }
   ],
   "source": [
    "from os import listdir\n",
    "from os.path import isdir,isfile, join\n",
    "\n",
    "mypath='/Users/benbilly3/Downloads/CSV'\n",
    "onlydirs = [f for f in listdir(mypath) if isdir(join(mypath, f))]\n",
    "path_list=[mypath+'/'+p for p in onlydirs][:-1]\n",
    "onlyfiles = [d+'/'+f for d in path_list for f in listdir(d) if not isfile(join(mypath, f))]\n",
    "onlyfiles=onlyfiles[onlyfiles.index('/Users/benbilly3/Downloads/CSV/2016/1104.csv'):]\n",
    "onlyfiles\n"
   ]
  },
  {
   "cell_type": "code",
   "execution_count": 30,
   "metadata": {},
   "outputs": [
    {
     "name": "stdout",
     "output_type": "stream",
     "text": [
      "/Users/benbilly3/Downloads/CSV/2016/1104.csv\n",
      "Finish <class 'crawlers.models.StockTdccTW'>date:2016-11-04 bulk_create:38256\n",
      "Finish <class 'crawlers.models.StockTdccTW'>date:2016-11-04 bulk_update:0\n",
      "/Users/benbilly3/Downloads/CSV/2016/1118.csv\n",
      "Finish <class 'crawlers.models.StockTdccTW'>date:2016-11-18 bulk_create:38288\n",
      "Finish <class 'crawlers.models.StockTdccTW'>date:2016-11-18 bulk_update:0\n",
      "/Users/benbilly3/Downloads/CSV/2016/1125.csv\n",
      "Finish <class 'crawlers.models.StockTdccTW'>date:2016-11-25 bulk_create:38320\n",
      "Finish <class 'crawlers.models.StockTdccTW'>date:2016-11-25 bulk_update:0\n",
      "/Users/benbilly3/Downloads/CSV/2016/1230.csv\n",
      "Finish <class 'crawlers.models.StockTdccTW'>date:2016-12-30 bulk_create:38432\n",
      "Finish <class 'crawlers.models.StockTdccTW'>date:2016-12-30 bulk_update:0\n",
      "/Users/benbilly3/Downloads/CSV/2016/1223.csv\n",
      "Finish <class 'crawlers.models.StockTdccTW'>date:2016-12-23 bulk_create:38416\n",
      "Finish <class 'crawlers.models.StockTdccTW'>date:2016-12-23 bulk_update:0\n",
      "/Users/benbilly3/Downloads/CSV/2016/1209.csv\n",
      "Finish <class 'crawlers.models.StockTdccTW'>date:2016-12-09 bulk_create:38368\n",
      "Finish <class 'crawlers.models.StockTdccTW'>date:2016-12-09 bulk_update:0\n"
     ]
    },
    {
     "data": {
      "text/plain": [
       "[None, None, None, None, None, None]"
      ]
     },
     "execution_count": 30,
     "metadata": {},
     "output_type": "execute_result"
    }
   ],
   "source": [
    "[AddToSQL.add_to_sql(StockTdccTW, CrawlStockTdccTW.crawl_main(file),pk_columns=['stock_id','date','hold_class']) for file in onlyfiles]\n"
   ]
  },
  {
   "cell_type": "markdown",
   "metadata": {},
   "source": [
    "#  miss File"
   ]
  },
  {
   "cell_type": "code",
   "execution_count": null,
   "metadata": {},
   "outputs": [],
   "source": [
    "# 20190920\n",
    "# 20171229"
   ]
  }
 ],
 "metadata": {
  "kernelspec": {
   "display_name": "Django Shell-Plus",
   "language": "python",
   "name": "django_extensions"
  },
  "language_info": {
   "codemirror_mode": {
    "name": "ipython",
    "version": 3
   },
   "file_extension": ".py",
   "mimetype": "text/x-python",
   "name": "python",
   "nbconvert_exporter": "python",
   "pygments_lexer": "ipython3",
   "version": "3.7.4"
  }
 },
 "nbformat": 4,
 "nbformat_minor": 2
}
