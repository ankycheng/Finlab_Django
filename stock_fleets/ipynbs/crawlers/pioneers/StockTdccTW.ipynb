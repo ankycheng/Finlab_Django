{
 "cells": [
  {
   "cell_type": "code",
   "execution_count": null,
   "metadata": {},
   "outputs": [],
   "source": [
    "import sys,os\n",
    "sys.path.append(\"..\")\n",
    "import django\n",
    "django.setup()\n",
    "import pandas as pd\n",
    "from io import StringIO\n",
    "import requests\n",
    "import datetime\n",
    "from crawlers.finlab.pioneers import *\n",
    "from crawlers.finlab.import_tools import *"
   ]
  },
  {
   "cell_type": "code",
   "execution_count": null,
   "metadata": {},
   "outputs": [],
   "source": [
    "class CrawlStockTdccTW:\n",
    "    def __init__(self):\n",
    "        self.target_name = \"台股集保餘額資訊\"\n",
    "        self.sub_market = [\"sii\", \"otc\"]\n",
    "\n",
    "    @classmethod\n",
    "    def crawl_main(cls, file=False):\n",
    "        if file is False:\n",
    "            headers = {'User-Agent': 'Mozilla/5.0 (Macintosh; Intel Mac OS X 10_1\\\n",
    "            0_1) AppleWebKit/537.36 (KHTML, like Gecko) Chrome/39.0.2171.95 Safari/537.36'}\n",
    "            res = requests.get(\"https://smart.tdcc.com.tw/opendata/getOD.ashx?id=1-5\", headers=headers)\n",
    "            df = pd.read_csv(StringIO(res.text))\n",
    "        else:\n",
    "            df = pd.read_csv(file)\n",
    "        df = df.astype(str)\n",
    "        df = df[~df['證券代號'].str.contains('YY|YE')]\n",
    "        df = df.rename(columns={\n",
    "            '證券代號': 'stock_id', '持股分級': 'hold_class',\n",
    "            '人數': 'people', '股數': 'hold_num', '占集保庫存數比例%': 'hold_pt'\n",
    "        })\n",
    "        if 'hold_pt' not in df.columns:\n",
    "            df = df.rename(columns={'佔集保庫存數比例%': 'hold_pt'})\n",
    "        df = df[df['hold_class'] != '16']\n",
    "        df.iloc[:, 2:6] = df.iloc[:, 2:6].apply(lambda s: pd.to_numeric(s, errors=\"coerce\"))\n",
    "        df['date'] = df[df.columns[0]].apply(lambda s: datetime.datetime.strptime(s, '%Y%m%d'))\n",
    "        df = df.drop(columns=df.columns[0])\n",
    "        return df\n",
    "\n",
    "    \n",
    "# df=CrawlStockTdccTW.crawl_main()\n",
    "# df"
   ]
  },
  {
   "cell_type": "markdown",
   "metadata": {},
   "source": [
    "# import old csv files"
   ]
  },
  {
   "cell_type": "code",
   "execution_count": null,
   "metadata": {},
   "outputs": [],
   "source": [
    "from os import listdir\n",
    "from os.path import isdir,isfile, join\n",
    "\n",
    "mypath='/Users/benbilly3/Downloads/CSV'\n",
    "onlydirs = [f for f in listdir(mypath) if isdir(join(mypath, f))]\n",
    "path_list=[mypath+'/'+p for p in onlydirs][:-1]\n",
    "onlyfiles = [d+'/'+f for d in path_list for f in listdir(d) if not isfile(join(mypath, f))]\n",
    "onlyfiles=onlyfiles[onlyfiles.index('/Users/benbilly3/Downloads/CSV/2016/1104.csv'):]\n",
    "onlyfiles\n"
   ]
  },
  {
   "cell_type": "code",
   "execution_count": null,
   "metadata": {},
   "outputs": [],
   "source": [
    "[AddToSQL.add_to_sql(StockTdccTW, CrawlStockTdccTW.crawl_main(file),pk_columns=['stock_id','date','hold_class']) for file in onlyfiles]\n"
   ]
  },
  {
   "cell_type": "markdown",
   "metadata": {},
   "source": [
    "#  miss File"
   ]
  },
  {
   "cell_type": "code",
   "execution_count": null,
   "metadata": {},
   "outputs": [],
   "source": [
    "# 20190920\n",
    "# 20171229"
   ]
  },
  {
   "cell_type": "markdown",
   "metadata": {},
   "source": [
    "# 單隻抓取"
   ]
  },
  {
   "cell_type": "code",
   "execution_count": null,
   "metadata": {},
   "outputs": [],
   "source": [
    "def crawl_tdcc(date,stock_id):\n",
    "   \n",
    "    datestr = date.strftime('%Y%m%d')\n",
    "   \n",
    "    headers = {\n",
    "    'User-Agent':'Mozilla/5.0 (Windows NT 6.1; WOW64; rv:2.0.1) Gecko/2010010' \\\n",
    "    '1 Firefox/4.0.1',\n",
    "    'Accept':'text/html,application/xhtml+xml,application/xml;q=0.9,*/*;q=0.8',\n",
    "    'Accept-Language':'en-us,en;q=0.5',\n",
    "    'Accept-Charset':'ISO-8859-1,utf-8;q=0.7,*;q=0.7'}\n",
    "   \n",
    "    url = 'https://www.tdcc.com.tw/smWeb/QryStockAjax.do'\n",
    "   \n",
    "    payload={\n",
    "    'scaDates':datestr,\n",
    "    'scaDate':datestr,\n",
    "    'SqlMethod':'StockNo',\n",
    "    'StockNo':stock_id,\n",
    "    'radioStockNo':stock_id,\n",
    "    'StockName':'',\n",
    "    'REQ_OPR':'SELECT',\n",
    "    'clkStockNo':stock_id,\n",
    "    'clkStockName':''}\n",
    "\n",
    "    try:\n",
    "        res = requests.post(url,data=payload,headers = headers,timeout=30)\n",
    "    except:\n",
    "        return None\n",
    "    \n",
    "   \n",
    "    df = pd.read_html(StringIO(res.text))\n",
    "    df=pd.DataFrame(df[0])\n",
    "    df.columns=df.iloc[9]\n",
    "    df=df.dropna(thresh=4)\n",
    "    if len(df)<5:\n",
    "        return None\n",
    "    df=df.iloc[1:]\n",
    "    df=df.drop(columns=['持股/單位數分級'])\n",
    "    df['序']=df['序'].fillna('17')\n",
    "    df=df.apply(lambda s: pd.to_numeric(s, errors=\"coerce\"))\n",
    "    df = df.rename(\n",
    "        columns={k: v for k, v in zip(df.columns, ['hold_class', 'people', 'hold_num', 'hold_pt'])})\n",
    "    df['stock_id']=stock_id\n",
    "    print(stock_id)\n",
    "    df['date']=date.date()\n",
    "    df=df.dropna()\n",
    "\n",
    "    return df\n",
    "\n",
    "crawl_QryStock_stock(datetime.datetime(2019,9,20),'1101')"
   ]
  },
  {
   "cell_type": "code",
   "execution_count": null,
   "metadata": {},
   "outputs": [],
   "source": [
    "\n",
    "x=list(CrawlStockPriceTW(datetime.datetime(2019,9,20)).crawl_main()['stock_id'].values)\n",
    "x"
   ]
  },
  {
   "cell_type": "code",
   "execution_count": null,
   "metadata": {},
   "outputs": [],
   "source": [
    "xx=pd.concat([crawl_tdcc(datetime.datetime(2019,9,20),s) for s in x])\n",
    "xx.to_csv('/Users/benbilly3/Desktop/20190920tdcc.csv')"
   ]
  },
  {
   "cell_type": "code",
   "execution_count": null,
   "metadata": {},
   "outputs": [],
   "source": [
    "pd.set_option(\"display.max_rows\", None)\n",
    "xx"
   ]
  },
  {
   "cell_type": "code",
   "execution_count": null,
   "metadata": {},
   "outputs": [],
   "source": [
    "AddToSQL.add_to_sql(StockTdccTW, CrawlStockTdccTW.crawl_main('/Users/benbilly3/Desktop/20190920tdcc.csv'),pk_columns=['stock_id','date','hold_class'])"
   ]
  },
  {
   "cell_type": "code",
   "execution_count": null,
   "metadata": {},
   "outputs": [],
   "source": []
  }
 ],
 "metadata": {
  "kernelspec": {
   "display_name": "Django Shell-Plus",
   "language": "python",
   "name": "django_extensions"
  },
  "language_info": {
   "codemirror_mode": {
    "name": "ipython",
    "version": 3
   },
   "file_extension": ".py",
   "mimetype": "text/x-python",
   "name": "python",
   "nbconvert_exporter": "python",
   "pygments_lexer": "ipython3",
   "version": "3.7.4"
  }
 },
 "nbformat": 4,
 "nbformat_minor": 2
}
