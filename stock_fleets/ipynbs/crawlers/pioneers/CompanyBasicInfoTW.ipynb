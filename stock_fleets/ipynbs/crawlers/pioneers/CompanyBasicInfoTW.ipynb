{
 "cells": [
  {
   "cell_type": "code",
   "execution_count": null,
   "metadata": {},
   "outputs": [],
   "source": [
    "import sys,os\n",
    "sys.path.append(\"..\")\n",
    "import django\n",
    "django.setup()\n",
    "import datetime\n",
    "import pandas as pd\n",
    "import requests\n",
    "from crawlers.finlab.data_process_tools import year_transfer"
   ]
  },
  {
   "cell_type": "code",
   "execution_count": null,
   "metadata": {},
   "outputs": [],
   "source": [
    "class CrawlCompanyBasicInfoTW:\n",
    "    def __init__(self):\n",
    "        self.target_name = \"台股企業基本資訊\"\n",
    "        self.sub_market = [\"sii\", \"otc\", \"rotc\"]\n",
    "\n",
    "\n",
    "\n",
    "    def crawl_main(self):\n",
    "        data=[]\n",
    "        market_category=self.sub_market\n",
    "        for market in market_category:\n",
    "            url = \"https://mops.twse.com.tw/mops/web/ajax_t51sb01\"\n",
    "            form_data = {\n",
    "                \"encodeURIComponent\": \"1\",\n",
    "                \"step\": \"1\",\n",
    "                \"firstin\": \"1\",\n",
    "                \"TYPEK\": market\n",
    "            }\n",
    "\n",
    "            res = requests.post(url,data = form_data)\n",
    "            res.encoding = \"utf-8\"\n",
    "            df=pd.read_html(res.text)\n",
    "            df=pd.DataFrame(df[0])\n",
    "            df['market'] = 'market\n",
    "            data.append(df)\n",
    "\n",
    "        df2=pd.concat(data)\n",
    "        df2 = df2.astype(str)\n",
    "        df2 = df2.apply(lambda s: s.str.replace(\",\", \"\"))\n",
    "        df3=df2[[\"公司代號\",\"公司名稱\",\"公司簡稱\",\"產業類別\",\"外國企業註冊地國\",\"住址\",\n",
    "                       \"董事長\",\"總經理\",\"發言人\",\"發言人職稱\",\"總機電話\",\n",
    "                       \"成立日期\",\"上市日期\",\"上櫃日期\",\"興櫃日期\",\"實收資本額(元)\",\"已發行普通股數或TDR原發行股數\",\n",
    "                       \"私募普通股(股)\",\"特別股(股)\",\"普通股盈餘分派或虧損撥補頻率\",\"股票過戶機構\",\"簽證會計師事務所\",\n",
    "                       \"公司網址\",\"投資人關係聯絡電話\",\"投資人關係聯絡電子郵件\",\"英文簡稱\",\"market\"]]\n",
    "\n",
    "\n",
    "        df3 = df3.rename(columns={\n",
    "                                    \"公司代號\":\"stock_id\",\"公司名稱\":\"name\",\n",
    "                                    \"公司簡稱\":\"short_name\",\"產業類別\":\"category\",\n",
    "                                    \"外國企業註冊地國\":\"registered_country\",\"住址\":\"address\",\n",
    "                                    \"董事長\":\"chairman\",\"總經理\":\"ceo\",\n",
    "                                    \"發言人\":\"spokesman\",\"發言人職稱\":\"spokesman_title\",\n",
    "                                    \"總機電話\":\"phone\",\"成立日期\":\"establishment_date\",\n",
    "                                    \"上市日期\":\"sii_date\",\"上櫃日期\":\"otc_date\",\n",
    "                                    \"興櫃日期\":\"rotc_date\",\"已發行普通股數或TDR原發行股數\":\"shares_issued\",\n",
    "                                    \"私募普通股(股)\":\"private_shares\",\"特別股(股)\":\"special_shares\",\n",
    "                                    \"普通股盈餘分派或虧損撥補頻率\":\"dividend_frequency\",\"股票過戶機構\":\"stock_transfer_institution\",\n",
    "                                    \"簽證會計師事務所\":\"visa_accounting_firm\",\"公司網址\":\"website\",\n",
    "                                    \"投資人關係聯絡電話\":\"investor_relations_contact\",\"投資人關係聯絡電子郵件\":\"investor_relations_email\",\n",
    "                                    \"英文簡稱\":\"english_abbreviation\",\"實收資本額(元)\":\"capital\"\n",
    "\n",
    "                                    })\n",
    "        #Data format Process\n",
    "        df3=df3[df3[\"stock_id\"]!=\"公司代號\"]\n",
    "        df3[\"registered_country\"]=df3[\"registered_country\"].apply(lambda s: s.replace(\"－\", \"台灣\"))\n",
    "\n",
    "        for share_column in [\"capital\",\"shares_issued\",\"private_shares\",\"special_shares\"]:\n",
    "            df3[share_column]=df3[share_column].apply(lambda s:pd.to_numeric(s, errors=\"coerce\"))\n",
    "\n",
    "        for date_column in [\"establishment_date\",\"sii_date\",\"otc_date\",\"rotc_date\"]:\n",
    "            df3[date_column]=df3[date_column].apply(lambda t:year_transfer(t))\n",
    "\n",
    "        df3[\"update_time\"]=datetime.datetime.now().date()\n",
    "\n",
    "        df3 = df3.fillna('')\n",
    "        return df3"
   ]
  },
  {
   "cell_type": "code",
   "execution_count": null,
   "metadata": {},
   "outputs": [],
   "source": [
    "C=CrawlCompanyBasicInfoTW()\n",
    "df=C.crawl_main()\n",
    "df"
   ]
  },
  {
   "cell_type": "code",
   "execution_count": null,
   "metadata": {},
   "outputs": [],
   "source": [
    "#pycharm 測試\n",
    "import sys,os\n",
    "sys.path.append(\"..\")\n",
    "import django\n",
    "django.setup()\n",
    "from crawlers.models import *\n",
    "# from crawlers.finlab.pioneers import *\n",
    "# from crawlers.finlab.import_tools import *"
   ]
  },
  {
   "cell_type": "code",
   "execution_count": null,
   "metadata": {
    "scrolled": false
   },
   "outputs": [],
   "source": [
    "add_to_sql(CompanyBasicInfoTW, df)"
   ]
  },
  {
   "cell_type": "code",
   "execution_count": null,
   "metadata": {},
   "outputs": [],
   "source": [
    "df"
   ]
  },
  {
   "cell_type": "code",
   "execution_count": null,
   "metadata": {},
   "outputs": [],
   "source": []
  }
 ],
 "metadata": {
  "kernelspec": {
   "display_name": "Python 3",
   "language": "python",
   "name": "python3"
  },
  "language_info": {
   "codemirror_mode": {
    "name": "ipython",
    "version": 3
   },
   "file_extension": ".py",
   "mimetype": "text/x-python",
   "name": "python",
   "nbconvert_exporter": "python",
   "pygments_lexer": "ipython3",
   "version": "3.7.4"
  }
 },
 "nbformat": 4,
 "nbformat_minor": 2
}
