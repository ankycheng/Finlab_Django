{
 "cells": [
  {
   "cell_type": "code",
   "execution_count": null,
   "metadata": {},
   "outputs": [],
   "source": [
    "import numpy as np\n",
    "import pandas as pd\n"
   ]
  },
  {
   "cell_type": "code",
   "execution_count": null,
   "metadata": {},
   "outputs": [],
   "source": [
    "A = np.random.randint(2, size=(5, 1120))\n",
    "A=pd.DataFrame(A)\n",
    "A"
   ]
  },
  {
   "cell_type": "code",
   "execution_count": null,
   "metadata": {},
   "outputs": [],
   "source": [
    "[i for i in A.columns if A[i].sum()==5]"
   ]
  },
  {
   "cell_type": "code",
   "execution_count": null,
   "metadata": {},
   "outputs": [],
   "source": [
    "x = -1\n",
    "\n",
    "if x < 0:\n",
    "    raise Exception(\"Sorry, no numbers below zero\")"
   ]
  },
  {
   "cell_type": "code",
   "execution_count": null,
   "metadata": {},
   "outputs": [],
   "source": [
    "d=[]\n",
    "def aa():\n",
    "    for i in [1,2,3,4,5]:\n",
    "        print(i)\n",
    "        if i==3:\n",
    "            d.append(i)\n",
    "            break\n",
    "    print('hjhj')\n",
    "    \n",
    "aa()"
   ]
  },
  {
   "cell_type": "code",
   "execution_count": null,
   "metadata": {},
   "outputs": [],
   "source": [
    "try:\n",
    "    pd.concat([None])\n",
    "except Exception as e:\n",
    "    if e.__str__() == 'All objects passed were None':\n",
    "        print(e)\n",
    "        pass\n",
    "    else:\n",
    "        raise Exception(\"connection is broken\")"
   ]
  },
  {
   "cell_type": "code",
   "execution_count": null,
   "metadata": {},
   "outputs": [],
   "source": [
    "                if e.__str__() == 'No objects to concatenate':\n",
    "                    pass\n",
    "                else:\n",
    "                    raise Exception(\"connection is broken\")"
   ]
  },
  {
   "cell_type": "code",
   "execution_count": 4,
   "metadata": {},
   "outputs": [
    {
     "name": "stdout",
     "output_type": "stream",
     "text": [
      "20200606\n",
      "holiday\n"
     ]
    },
    {
     "data": {
      "text/html": [
       "<div>\n",
       "<style scoped>\n",
       "    .dataframe tbody tr th:only-of-type {\n",
       "        vertical-align: middle;\n",
       "    }\n",
       "\n",
       "    .dataframe tbody tr th {\n",
       "        vertical-align: top;\n",
       "    }\n",
       "\n",
       "    .dataframe thead th {\n",
       "        text-align: right;\n",
       "    }\n",
       "</style>\n",
       "<table border=\"1\" class=\"dataframe\">\n",
       "  <thead>\n",
       "    <tr style=\"text-align: right;\">\n",
       "      <th></th>\n",
       "    </tr>\n",
       "  </thead>\n",
       "  <tbody>\n",
       "  </tbody>\n",
       "</table>\n",
       "</div>"
      ],
      "text/plain": [
       "Empty DataFrame\n",
       "Columns: []\n",
       "Index: []"
      ]
     },
     "execution_count": 4,
     "metadata": {},
     "output_type": "execute_result"
    }
   ],
   "source": [
    "from crawlers.finlab.pioneers import *\n",
    "from crawlers.models import *\n",
    "from crawlers.finlab.import_tools import *\n",
    "def crawl_margin(date):\n",
    "\n",
    "    datestr = date.strftime(\"%Y%m%d\")\n",
    "    print(datestr)\n",
    "\n",
    "    res = requests.get(\"https://www.twse.com.tw/exchangeReport/MI_MARGN?response=csv&date=\"+datestr+\"&selectType=ALL&_=1591280080325\")\n",
    "\n",
    "    #res.text.replace(\",,,,,,,\",\"\").replace(\"=\",\"\").replace(',,,,,',\"\").replace('\" \",',\"\")\n",
    "\n",
    "    \n",
    "\n",
    "    \n",
    "\n",
    "    try:\n",
    "\n",
    "        df = df = pd.read_csv(io.StringIO(res.text.replace(\",,,,,,,\",\"\").replace(\"=\",\"\").replace(',,,,,',\"\").replace('\" \",',\"\")), header = 7)\n",
    "\n",
    "    except:\n",
    "\n",
    "        print('holiday')\n",
    "\n",
    "        return pd.DataFrame()\n",
    "\n",
    "    \n",
    "\n",
    "    #df = df.drop(['註記','Unnamed: 16'], axis = 1)\n",
    "\n",
    "    df = df.rename(columns = {'股票代號':'stock_id','買進':'融資買進','賣出':'融資賣出','前日餘額':'融資前日餘額','今日餘額':'融資今日餘額','限額':'融資限額',\n",
    "\n",
    "                              '買進.1':'融卷買進','賣出.1':'融卷賣出','前日餘額.1':'融卷前日餘額','今日餘額.1':'融卷今日餘額','限額.1':'融卷限額'})\n",
    "\n",
    "    \n",
    "\n",
    "    df.insert(loc=0, column = 'date', value = date)\n",
    "\n",
    "    df = df.dropna(axis=1, how='all').dropna(axis=0, how='all')\n",
    "\n",
    "    df.columns = df.columns.str.replace(' ', '')\n",
    "\n",
    "    #df.index.name = 'stock_id'\n",
    "\n",
    "    df.columns.name = ''\n",
    "\n",
    "    df['date'] = pd.to_datetime(date)\n",
    "\n",
    "    df = df.reset_index().set_index(['date','stock_id'])\n",
    "\n",
    "    df = df.apply(lambda s: s.astype(str).str.replace(',',''))\n",
    "\n",
    "    #df = df = preprocess(df, date)\n",
    "\n",
    "    df = df.drop(df.columns[-1], axis = 1)\n",
    "\n",
    "    df = df.drop(['index'], axis = 1)\n",
    "    \n",
    "    return df\n",
    "    \n",
    "\n",
    "crawl_margin(datetime.datetime(2020,6,6))"
   ]
  },
  {
   "cell_type": "code",
   "execution_count": 3,
   "metadata": {},
   "outputs": [
    {
     "ename": "AttributeError",
     "evalue": "'list' object has no attribute 'iloc'",
     "output_type": "error",
     "traceback": [
      "\u001b[0;31m---------------------------------------------------------------------------\u001b[0m",
      "\u001b[0;31mAttributeError\u001b[0m                            Traceback (most recent call last)",
      "\u001b[0;32m<ipython-input-3-06775ac7c984>\u001b[0m in \u001b[0;36m<module>\u001b[0;34m()\u001b[0m\n\u001b[1;32m     15\u001b[0m     \u001b[0;32mreturn\u001b[0m \u001b[0mpd\u001b[0m\u001b[0;34m.\u001b[0m\u001b[0mSeries\u001b[0m\u001b[0;34m(\u001b[0m\u001b[0morg\u001b[0m\u001b[0;34m,\u001b[0m \u001b[0m預測時段\u001b[0m\u001b[0;34m)\u001b[0m\u001b[0;34m\u001b[0m\u001b[0;34m\u001b[0m\u001b[0m\n\u001b[1;32m     16\u001b[0m \u001b[0;34m\u001b[0m\u001b[0m\n\u001b[0;32m---> 17\u001b[0;31m \u001b[0m每年調薪\u001b[0m \u001b[0;34m=\u001b[0m \u001b[0mincrease\u001b[0m\u001b[0;34m(\u001b[0m\u001b[0m每月薪水\u001b[0m\u001b[0;34m,\u001b[0m\u001b[0m調薪幅度\u001b[0m\u001b[0;34m)\u001b[0m\u001b[0;34m\u001b[0m\u001b[0;34m\u001b[0m\u001b[0m\n\u001b[0m\u001b[1;32m     18\u001b[0m \u001b[0;34m\u001b[0m\u001b[0m\n\u001b[1;32m     19\u001b[0m \u001b[0m每年調薪\u001b[0m\u001b[0;34m.\u001b[0m\u001b[0mplot\u001b[0m\u001b[0;34m(\u001b[0m\u001b[0;34m)\u001b[0m\u001b[0;34m\u001b[0m\u001b[0;34m\u001b[0m\u001b[0m\n",
      "\u001b[0;32m<ipython-input-3-06775ac7c984>\u001b[0m in \u001b[0;36mincrease\u001b[0;34m(arr, ratio)\u001b[0m\n\u001b[1;32m      7\u001b[0m \u001b[0;32mdef\u001b[0m \u001b[0mincrease\u001b[0m \u001b[0;34m(\u001b[0m\u001b[0marr\u001b[0m\u001b[0;34m,\u001b[0m\u001b[0mratio\u001b[0m\u001b[0;34m)\u001b[0m\u001b[0;34m:\u001b[0m\u001b[0;34m\u001b[0m\u001b[0;34m\u001b[0m\u001b[0m\n\u001b[1;32m      8\u001b[0m \u001b[0;34m\u001b[0m\u001b[0m\n\u001b[0;32m----> 9\u001b[0;31m     \u001b[0morg\u001b[0m \u001b[0;34m=\u001b[0m \u001b[0;34m[\u001b[0m\u001b[0marr\u001b[0m\u001b[0;34m.\u001b[0m\u001b[0miloc\u001b[0m\u001b[0;34m[\u001b[0m\u001b[0;36m0\u001b[0m\u001b[0;34m]\u001b[0m\u001b[0;34m]\u001b[0m\u001b[0;34m\u001b[0m\u001b[0;34m\u001b[0m\u001b[0m\n\u001b[0m\u001b[1;32m     10\u001b[0m \u001b[0;34m\u001b[0m\u001b[0m\n\u001b[1;32m     11\u001b[0m     \u001b[0;32mfor\u001b[0m \u001b[0mx\u001b[0m \u001b[0;32min\u001b[0m \u001b[0marr\u001b[0m\u001b[0;34m[\u001b[0m\u001b[0;36m1\u001b[0m\u001b[0;34m:\u001b[0m\u001b[0;34m]\u001b[0m\u001b[0;34m:\u001b[0m\u001b[0;34m\u001b[0m\u001b[0;34m\u001b[0m\u001b[0m\n",
      "\u001b[0;31mAttributeError\u001b[0m: 'list' object has no attribute 'iloc'"
     ]
    }
   ],
   "source": [
    "import pandas as pd\n",
    "#每年調薪 3%\n",
    "每月薪水=[1000]\n",
    "\n",
    "調薪幅度 = 0.03\n",
    "\n",
    "def increase (arr,ratio):\n",
    "\n",
    "    org = [arr.iloc[0]]\n",
    "\n",
    "    for x in arr[1:]:\n",
    "\n",
    "        org.append(org[-1]*ratio + x)\n",
    "\n",
    "    return pd.Series(org, 預測時段)\n",
    "\n",
    "每年調薪 = increase(每月薪水,調薪幅度)\n",
    "\n",
    "每年調薪.plot()"
   ]
  },
  {
   "cell_type": "code",
   "execution_count": null,
   "metadata": {},
   "outputs": [],
   "source": []
  }
 ],
 "metadata": {
  "kernelspec": {
   "display_name": "Django Shell-Plus",
   "language": "python",
   "name": "django_extensions"
  },
  "language_info": {
   "codemirror_mode": {
    "name": "ipython",
    "version": 3
   },
   "file_extension": ".py",
   "mimetype": "text/x-python",
   "name": "python",
   "nbconvert_exporter": "python",
   "pygments_lexer": "ipython3",
   "version": "3.7.4"
  }
 },
 "nbformat": 4,
 "nbformat_minor": 4
}
