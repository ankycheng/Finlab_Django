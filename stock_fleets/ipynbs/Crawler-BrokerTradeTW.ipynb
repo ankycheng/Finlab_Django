{
 "cells": [
  {
   "cell_type": "code",
   "execution_count": null,
   "metadata": {},
   "outputs": [],
   "source": [
    "import sys,os\n",
    "sys.path.append(\"..\")\n",
    "import django\n",
    "django.setup()\n",
    "import pandas as pd\n",
    "from io import StringIO\n",
    "import requests\n",
    "import datetime\n",
    "from crawlers.models import *\n",
    "from crawlers.finlab.pioneers import *\n",
    "from crawlers.finlab.import_tools import *\n",
    "import time"
   ]
  },
  {
   "cell_type": "code",
   "execution_count": null,
   "metadata": {},
   "outputs": [],
   "source": [
    "class CrawlBrokerTradeTW:\n",
    "    \n",
    "    def __init__(self,start_date):\n",
    "        self.start_date = start_date\n",
    "        self.start_date_str = start_date.strftime(\"%Y-%m-%d\")\n",
    "        self.target_name = \"台股分點進出資訊\"\n",
    "        self.format = \"time_series\"\n",
    "        \n",
    "    \n",
    "    def check_trade_day(self):\n",
    "        stock_range=CrawlStockPriceTW(self.start_date)\n",
    "        try:\n",
    "            df=pd.concat([stock_range.crawl_sii(),stock_range.crawl_otc()])['stock_id'].values\n",
    "            return df\n",
    "        except ValueError:\n",
    "            return None\n",
    "        \n",
    "    def broker_trade(self,stock_id):\n",
    "        print(stock_id)\n",
    "        url='https://fubon-ebrokerdj.fbs.com.tw/z/zc/zco/zco.djhtm?a='+stock_id+'&e='+self.start_date_str+'&f='+self.start_date_str\n",
    "        r = requests.post(url)\n",
    "        html_df = pd.read_html(StringIO(r.text))\n",
    "        df = pd.DataFrame(html_df[2])\n",
    "        #holiday\n",
    "        if len(df)<9:\n",
    "            return  None\n",
    "        df.columns=df.iloc[5]\n",
    "        df=df.iloc[6:-3]\n",
    "        buy_side=df.iloc[:,:5]\n",
    "        buy_side=buy_side.rename(columns={'買超券商':'broker_name','買進':'buy_num',\n",
    "                                          '賣出':'sell_num','買超':'net_bs',\n",
    "                                          '佔成交比重':'transactions_pt'})\n",
    "        sell_side=df.iloc[:,5:]\n",
    "        sell_side=sell_side.rename(columns={'賣超券商':'broker_name','買進':'buy_num',\n",
    "                                            '賣出':'sell_num','賣超':'net_bs',\n",
    "                                            '佔成交比重':'transactions_pt'})\n",
    "\n",
    "        df_all=pd.concat([buy_side,sell_side],sort=False).dropna()\n",
    "        df_all.iloc[:,1:]=df_all.iloc[:,1:].apply(lambda s: pd.to_numeric(s.str.replace('%',''), errors=\"coerce\"))\n",
    "        df_all['net_bs']=df_all['buy_num']-df_all['sell_num']\n",
    "        df_all[\"date\"] = pd.to_datetime(self.start_date)\n",
    "        df_all['broker_name']=df_all['broker_name'].apply(lambda s:s.replace('證券','')).apply(lambda s:s.replace('(牛牛牛)','犇'))\n",
    "        df_all['broker_name']=df_all['broker_name'].apply(lambda s:s if '停' not in s else s[:s.index('-')])\n",
    "        df_all['stock_id']=df_all['broker_name'].apply(lambda s:stock_id+'-'+s)\n",
    "#         add_to_sql(BrokerTradeTW, df_all, 'broker_name')\n",
    "        \n",
    "        return df_all\n",
    "\n",
    "    def crawl_main(self):\n",
    "        crawl_list=self.check_trade_day()\n",
    "        if crawl_list is not None:\n",
    "            for stock_id in crawl_list[:5]:\n",
    "                 self.broker_trade(stock_id)\n",
    "        else:\n",
    "            pass\n",
    "\n",
    "\n",
    "\n",
    "# a=CrawlBrokerTradeTW(datetime.datetime(2020,4,23))\n",
    "# a.broker_trade('00774B')\n",
    "# df=broker_trade(stock_id,datetime.datetime(2020,4,23),end_time=None)\n",
    "# df\n",
    "\n",
    "a=CrawlBrokerTradeTW(datetime.datetime(2018,1,2))\n",
    "# a.broker_trade('1101')['date']\n",
    "a.crawl_main()"
   ]
  },
  {
   "cell_type": "code",
   "execution_count": null,
   "metadata": {},
   "outputs": [],
   "source": [
    "df=StockPriceTW.objects.filter(date=datetime.datetime(2020,4,24))"
   ]
  },
  {
   "cell_type": "code",
   "execution_count": null,
   "metadata": {},
   "outputs": [],
   "source": [
    "# [i['stock_id'] for i in df.values('stock_id')]\n",
    "stock_range=CrawlStockPriceTW(date=datetime.datetime(2020,4,25))\n",
    "try:\n",
    "    df=pd.concat([stock_range.crawl_sii(),stock_range.crawl_otc()])['stock_id'].values\n",
    "except ValueError:\n",
    "    return None"
   ]
  },
  {
   "cell_type": "code",
   "execution_count": null,
   "metadata": {},
   "outputs": [],
   "source": [
    "add_to_sql(BrokerTradeTW, df, 'broker_name')"
   ]
  },
  {
   "cell_type": "code",
   "execution_count": null,
   "metadata": {},
   "outputs": [],
   "source": [
    "BrokerInfoTW.objects.filter(broker_name='臺銀')"
   ]
  },
  {
   "cell_type": "markdown",
   "metadata": {},
   "source": [
    "# 匯入foreign,測試"
   ]
  },
  {
   "cell_type": "code",
   "execution_count": null,
   "metadata": {},
   "outputs": [],
   "source": [
    "model_name=BrokerTradeTW\n",
    "\n",
    "fk_field_names = [field.name for field in model_name._meta.fields\n",
    "                             if isinstance(field, models.ForeignKey)]\n",
    "\n",
    "fk_field_names"
   ]
  },
  {
   "cell_type": "code",
   "execution_count": null,
   "metadata": {},
   "outputs": [],
   "source": [
    "fk_remote=[model_name._meta.get_field(i).remote_field.model  for i in fk_field_names]\n",
    "fk_remote"
   ]
  },
  {
   "cell_type": "code",
   "execution_count": null,
   "metadata": {},
   "outputs": [],
   "source": [
    "model_name=BrokerTradeTW\n",
    "fk_columns='broker_name'\n",
    "\n",
    "def fk_import(model_name,item,*fk_columns):\n",
    "    fk_field_names = [field.name for field in model_name._meta.fields\n",
    "                      if isinstance(field, models.ForeignKey)]\n",
    "    fk_remote = [model_name._meta.get_field(i).remote_field.model for i in fk_field_names]\n",
    "    fk_obj = [m.objects.get(**{n: item[n]}) for m, n in zip(fk_remote, fk_columns)]\n",
    "    fk_create_data = dict((m, n) for m, n in zip(fk_field_names, fk_obj))\n",
    "    return  fk_create_data\n",
    "\n",
    "\n",
    "fk_import(model_name,df.iloc[0],fk_columns)"
   ]
  },
  {
   "cell_type": "code",
   "execution_count": null,
   "metadata": {},
   "outputs": [],
   "source": [
    "model_name=BrokerTradeTW\n",
    "fk_columns='broker_name'\n",
    "\n",
    "def fk_update(model_name,item,*fk_columns):\n",
    "    fk_field_names = [field.name for field in model_name._meta.fields\n",
    "                      if isinstance(field, models.ForeignKey)]\n",
    "    fk_remote = [model_name._meta.get_field(i).remote_field.model for i in fk_field_names]\n",
    "    fk_obj = [m.objects.get(**{n: item[n]}) for m, n in zip(fk_remote, fk_columns)]\n",
    "\n",
    "    return fk_obj \n",
    "\n",
    "\n",
    "fk_update(model_name,df.iloc[0],fk_columns)"
   ]
  },
  {
   "cell_type": "code",
   "execution_count": null,
   "metadata": {},
   "outputs": [],
   "source": []
  }
 ],
 "metadata": {
  "kernelspec": {
   "display_name": "Django Shell-Plus",
   "language": "python",
   "name": "django_extensions"
  },
  "language_info": {
   "codemirror_mode": {
    "name": "ipython",
    "version": 3
   },
   "file_extension": ".py",
   "mimetype": "text/x-python",
   "name": "python",
   "nbconvert_exporter": "python",
   "pygments_lexer": "ipython3",
   "version": "3.7.4"
  }
 },
 "nbformat": 4,
 "nbformat_minor": 2
}
