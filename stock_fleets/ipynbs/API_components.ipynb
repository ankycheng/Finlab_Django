{
 "cells": [
  {
   "cell_type": "code",
   "execution_count": null,
   "metadata": {},
   "outputs": [],
   "source": [
    "import sys,os\n",
    "sys.path.append(\"..\")\n",
    "import django\n",
    "django.setup()\n",
    "from crawlers.models import *\n",
    "import pandas as pd\n",
    "from django.db.models import Q\n",
    "import datetime\n",
    "from crawlers.finlab.import_tools import *"
   ]
  },
  {
   "cell_type": "code",
   "execution_count": null,
   "metadata": {},
   "outputs": [],
   "source": [
    "class GetModelDateRangeBySlice:\n",
    "    def __init__(self, model, offset=0, limit=100000, recent=True):\n",
    "        self.model = model\n",
    "        self.offset = offset\n",
    "        self.limit = limit\n",
    "        self.recent = recent\n",
    "\n",
    "    def get_date_list(self, conn):\n",
    "        table = self.model._meta.db_table\n",
    "        if self.recent:\n",
    "            cursor = sorted(list(conn.execute(\"SELECT DISTINCT date FROM \" + table)))[-self.offset:self.limit]\n",
    "        else:\n",
    "            cursor = sorted(list(conn.execute(\"SELECT DISTINCT date FROM \" + table)))[\n",
    "                     self.offset:self.offset + self.limit]\n",
    "        cursor = [cursor[i][0] for i in range(len(cursor))]\n",
    "        return cursor\n",
    "\n",
    "    \n",
    "# GetModelDateRangeBySlice(StockTdccTW,24).get_date_list(engine)"
   ]
  },
  {
   "cell_type": "code",
   "execution_count": null,
   "metadata": {
    "scrolled": true
   },
   "outputs": [],
   "source": [
    "class OrmBasicFilter(GetModelDateRangeBySlice):\n",
    "    def __init__(self, model, stock_id, start_date=None, end_date=None, offset=0, limit=100000, recent=True,\n",
    "                 fields=None):\n",
    "        super().__init__(model, offset, limit, recent)\n",
    "        self.stock_id = stock_id\n",
    "        self.start_date = start_date\n",
    "        self.end_date = end_date\n",
    "        self.fields=fields\n",
    "\n",
    "    def basic_filter_set(self):\n",
    "        stock_id = {}\n",
    "        start_date = {}\n",
    "        end_date = {}\n",
    "        if self.stock_id is not None:\n",
    "            stock_id['stock_id'] = self.stock_id\n",
    "        if self.start_date is not None:\n",
    "            start = datetime.datetime.strptime(self.start_date, \"%Y-%m-%d\")\n",
    "            start_date['date__gte'] = start\n",
    "        if self.end_date is not None:\n",
    "            end = datetime.datetime.strptime(self.end_date, \"%Y-%m-%d\")\n",
    "            end_date['date__lte'] = end\n",
    "        if (self.offset is not 0) and (self.limit is not 100000):\n",
    "            date_range = self.get_date_list(engine)\n",
    "            start_date['date__gte'] = date_range[0]\n",
    "            end_date['date__lte'] = date_range[-1]\n",
    "        filter_set = {'stock_id': stock_id, 'start_date': start_date, 'end_date': end_date}\n",
    "        return filter_set\n",
    "\n",
    "    def get_orm_data(self):\n",
    "        fs = self.basic_filter_set()\n",
    "        if self.fields is not None:\n",
    "            fields=self.fields.split('-')\n",
    "            orm_data = self.model.objects.filter(Q(**fs['stock_id']), Q(**fs['start_date']), Q(**fs['end_date'])).order_by(\n",
    "                'date').values(*fields)\n",
    "        else:\n",
    "            orm_data = self.model.objects.filter(Q(**fs['stock_id']), Q(**fs['start_date']), Q(**fs['end_date'])).order_by(\n",
    "            'date').values()\n",
    "        return orm_data\n",
    "\n",
    "    def get_dataframe(self):\n",
    "        df = pd.DataFrame(self.get_orm_data())\n",
    "        return df\n",
    "\n",
    "class ReloadTdccTW(OrmBasicFilter):\n",
    "    group_list = ['little', 'medium', 'big', 'super', 'total']\n",
    "\n",
    "    def dataframe_process(self):\n",
    "        group_list = self.group_list\n",
    "        df = self.get_dataframe()\n",
    "        df['hold_class_group'] = [\n",
    "            group_list[0] if i < 10 else group_list[1] if i < 12 else group_list[2] if i < 15 else group_list[\n",
    "                3] if i < 16 else group_list[4] for i in df['hold_class']]\n",
    "        df = df.groupby(['stock_id', 'date', 'hold_class_group'])[['people', 'hold_num', 'hold_pt']].sum()\n",
    "        df['hold_num'] = round(df['hold_num'] / 1000)\n",
    "        df['hold_pt'] = round(df['hold_pt'], 2)\n",
    "        df = df.reset_index()\n",
    "        return df\n",
    "\n",
    "    def group_data(self):\n",
    "        context = {}\n",
    "        df = self.dataframe_process()\n",
    "        context[\"stock_id\"] = self.stock_id\n",
    "        context[\"date\"] = sorted(list(set(df['date'].values)))\n",
    "        df = df.drop(columns=['stock_id', 'date'])\n",
    "        for group in self.group_list:\n",
    "            context[group] = list(\n",
    "                df[df['hold_class_group'] == group].drop(columns='hold_class_group').T.to_dict().values())\n",
    "        context['price'] = list(StockPriceTW.objects.filter(stock_id=self.stock_id, date__in=context[\"date\"]).values())\n",
    "        return context\n",
    "    \n",
    "df=ReloadTdccTW(StockTdccTW,'2330',offset=52).group_data()\n",
    "df"
   ]
  },
  {
   "cell_type": "markdown",
   "metadata": {},
   "source": [
    "# Seaborn Test"
   ]
  },
  {
   "cell_type": "code",
   "execution_count": null,
   "metadata": {},
   "outputs": [],
   "source": [
    "import seaborn as sns; sns.set()\n",
    "import matplotlib.pyplot as plt\n",
    "plt.figure(figsize=(16,8))\n",
    "fmri = sns.load_dataset(\"fmri\")\n",
    "ax = sns.lineplot(x=df['date'], y=[i['hold_pt'] for i in df['little']])\n",
    "ax2 = ax.twinx()\n",
    "ax2 = sns.lineplot(x=df['date'], y=[i['close_price'] for i in df['price']], color=\"r\")\n",
    "plt.show()\n"
   ]
  },
  {
   "cell_type": "code",
   "execution_count": null,
   "metadata": {},
   "outputs": [],
   "source": [
    "df=OrmBasicFilter(StockPriceTW,'2330',offset=100,fields='open_price-close_price').get_orm_data()\n",
    "df"
   ]
  }
 ],
 "metadata": {
  "kernelspec": {
   "display_name": "Python 3",
   "language": "python",
   "name": "python3"
  },
  "language_info": {
   "codemirror_mode": {
    "name": "ipython",
    "version": 3
   },
   "file_extension": ".py",
   "mimetype": "text/x-python",
   "name": "python",
   "nbconvert_exporter": "python",
   "pygments_lexer": "ipython3",
   "version": "3.7.4"
  }
 },
 "nbformat": 4,
 "nbformat_minor": 4
}
