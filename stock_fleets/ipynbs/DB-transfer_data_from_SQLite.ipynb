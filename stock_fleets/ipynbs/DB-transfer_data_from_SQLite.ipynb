{
 "cells": [
  {
   "cell_type": "code",
   "execution_count": null,
   "metadata": {},
   "outputs": [],
   "source": [
    "import sys,os\n",
    "sys.path.append(\"..\")\n",
    "import django\n",
    "django.setup()\n",
    "from sqlalchemy import create_engine\n",
    "import pymysql\n",
    "import pandas as pd\n",
    "import sqlite3\n",
    "from crawlers.models import *"
   ]
  },
  {
   "cell_type": "markdown",
   "metadata": {},
   "source": [
    "# 股價資料整批輸入"
   ]
  },
  {
   "cell_type": "code",
   "execution_count": null,
   "metadata": {
    "scrolled": true
   },
   "outputs": [],
   "source": [
    "# connect to finlab sqlite\n",
    "conn = sqlite3.connect('/Users/benbilly3/Desktop/pythonTradeEye/Tool/data/data.db')\n",
    "\n",
    "# connect to finlab_django mysql\n",
    "connect_info = 'mysql+pymysql://{}:{}@{}:{}/{}?charset=utf8'.format(\"root\",\"benbilly3@\",\"localhost\",3306,\"finlab_django_dev\")\n",
    "engine = create_engine(connect_info)\n",
    "db = pymysql.connect(\"localhost\", \"root\", \"benbilly3@\",\"finlab_django_dev\", charset='utf8')\n"
   ]
  },
  {
   "cell_type": "code",
   "execution_count": null,
   "metadata": {},
   "outputs": [],
   "source": [
    "# read data from sql\n",
    "\n",
    "def read_sqlite_data(tableName):\n",
    "    df = pd.read_sql('select * from'+' '+tableName,\n",
    "                     conn,parse_dates=['date']).fillna(method='ffill')\n",
    "    return df\n",
    "\n",
    "\n",
    "\n",
    "# read_sqlite_data('price')"
   ]
  },
  {
   "cell_type": "code",
   "execution_count": null,
   "metadata": {},
   "outputs": [],
   "source": [
    "#篩選掉股號奇怪的舊資料\n",
    "def select_otc_id(code):\n",
    "    if len(code) > 5:\n",
    "        if code[-1] == \"P\":\n",
    "            return False\n",
    "        else:\n",
    "            try:\n",
    "                code = int(code)\n",
    "                if code > 10000:\n",
    "                    return False\n",
    "                else:\n",
    "                    return True\n",
    "            except ValueError:\n",
    "                return True\n",
    "    else:\n",
    "        return True\n",
    "    \n",
    "    \n",
    "df=read_sqlite_data('price').loc[:,['stock_id','date','成交股數','成交金額','收盤價','最低價','最高價','開盤價','證券名稱']]\n",
    "df2=df.rename(columns={'成交股數':'turnover_vol','成交金額':'turnover_price',\n",
    "                      '收盤價':'close_price','最低價':'low_price',\n",
    "                      '最高價':'high_price','開盤價':'open_price',\n",
    "                      '證券名稱':'stock_name'})\n",
    "\n",
    "\n",
    "df2"
   ]
  },
  {
   "cell_type": "code",
   "execution_count": null,
   "metadata": {},
   "outputs": [],
   "source": [
    "df2[\"check\"] = df2[\"stock_id\"].apply(lambda s: select_otc_id(s))\n",
    "df2=df2[df2[\"check\"]]\n",
    "df2=df2.iloc[:,:-1]"
   ]
  },
  {
   "cell_type": "code",
   "execution_count": null,
   "metadata": {},
   "outputs": [],
   "source": [
    "df2=pd.read_csv('/Users/benbilly3/Downloads/brokerinfotw')\n",
    "df2=df2.iloc[:,1:]\n",
    "df2"
   ]
  },
  {
   "cell_type": "markdown",
   "metadata": {},
   "source": [
    "# Add_to_sql 測試"
   ]
  },
  {
   "cell_type": "code",
   "execution_count": null,
   "metadata": {},
   "outputs": [],
   "source": [
    "df2.to_sql(con=engine,name='crawlers_brokerinfotw',index_label='id', if_exists='replace')\n",
    "                                                                \n",
    "                                                                "
   ]
  },
  {
   "cell_type": "code",
   "execution_count": null,
   "metadata": {},
   "outputs": [],
   "source": []
  }
 ],
 "metadata": {
  "kernelspec": {
   "display_name": "Django Shell-Plus",
   "language": "python",
   "name": "django_extensions"
  },
  "language_info": {
   "codemirror_mode": {
    "name": "ipython",
    "version": 3
   },
   "file_extension": ".py",
   "mimetype": "text/x-python",
   "name": "python",
   "nbconvert_exporter": "python",
   "pygments_lexer": "ipython3",
   "version": "3.7.4"
  }
 },
 "nbformat": 4,
 "nbformat_minor": 2
}
