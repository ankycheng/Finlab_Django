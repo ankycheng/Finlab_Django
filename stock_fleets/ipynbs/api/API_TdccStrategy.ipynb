{
 "cells": [
  {
   "cell_type": "code",
   "execution_count": 1,
   "metadata": {},
   "outputs": [],
   "source": [
    "import sys,os\n",
    "sys.path.append(\"..\")\n",
    "import django\n",
    "django.setup()\n",
    "from crawlers.models import *\n",
    "import pandas as pd\n",
    "import datetime\n",
    "from crawlers.finlab.import_tools import *\n",
    "from tdcc_tw.helpers import ReloadTdccTW"
   ]
  },
  {
   "cell_type": "code",
   "execution_count": 13,
   "metadata": {},
   "outputs": [
    {
     "data": {
      "text/plain": [
       "['00671R', '1515', '1752', '2466', '3653', '3675', '6101']"
      ]
     },
     "execution_count": 13,
     "metadata": {},
     "output_type": "execute_result"
    }
   ],
   "source": [
    "class TdccStrategy(ReloadTdccTW):\n",
    "    def get_tdcc_table(self):\n",
    "        df = self.dataframe_process()\n",
    "        df = df.set_index(['date', 'stock_id'])\n",
    "        return df\n",
    "\n",
    "    @staticmethod\n",
    "    def tdcc_select(dataframe, column: str, hold_level: str, rank_max: float, rank_min: float):\n",
    "        df = dataframe[dataframe['hold_class_group'] == hold_level]\n",
    "        table = pd.pivot_table(df, index=['date'], columns=['stock_id'], values=column)\n",
    "\n",
    "        start = table.iloc[0]\n",
    "        finish = table.iloc[-1]\n",
    "\n",
    "        growth_ratio = round(((finish - start) / start).dropna() * 100, 2).sort_values(ascending=False)\n",
    "        rank_series = growth_ratio.rank(pct=True)\n",
    "        rank_series_select = (rank_series >= rank_min) & (rank_series <= rank_max)\n",
    "\n",
    "        return rank_series_select\n",
    "\n",
    "    def select_list(self, shp_rank_max=1, shp_rank_min=0, bhp_rank_max=1, bhp_rank_min=0, lhp_rank_max=1,\n",
    "                    lhp_rank_min=0, lp_rank_max=1, lp_rank_min=0, issued_num_max=100000000, issued_num_min=0,\n",
    "                    ps_rank_max=1, ps_rank_min=0):\n",
    "        df = self.get_tdcc_table()\n",
    "        cond1 = self.tdcc_select(df, 'hold_pt', 'super', float(shp_rank_max), float(shp_rank_min))\n",
    "        cond2 = self.tdcc_select(df, 'hold_pt', 'big', float(bhp_rank_max), float(bhp_rank_min))\n",
    "        cond3 = self.tdcc_select(df, 'hold_pt', 'little', float(lhp_rank_max), float(lhp_rank_min))\n",
    "        cond4 = self.tdcc_select(df, 'people', 'little', float(lp_rank_max), float(lp_rank_min))\n",
    "\n",
    "        # 股本篩選\n",
    "        df2 = df[df['hold_class_group'] == 'total']\n",
    "        df2 = df2.loc[df2.index.get_level_values(0).max()]\n",
    "        cond5 = (df2['hold_num'] >= int(issued_num_min)) & (df2['hold_num'] <= int(issued_num_max))\n",
    "\n",
    "        # 小股東賣壓篩選\n",
    "        df2 = df[df['hold_class_group'] == 'little']\n",
    "        df2 = df2.loc[df2.index.get_level_values(0).max()]\n",
    "        little_hold = df2['hold_pt'].rank(pct=True)\n",
    "        cond6 = (little_hold >= float(ps_rank_min)) & (little_hold <= float(ps_rank_max))\n",
    "\n",
    "        cond_all = cond1 & cond2 & cond3 & cond4 & cond5 & cond6\n",
    "        select_list = list(cond_all[cond_all].index)\n",
    "        return select_list"
   ]
  },
  {
   "cell_type": "code",
   "execution_count": null,
   "metadata": {},
   "outputs": [],
   "source": [
    "TdccStrategy(ReloadTdccTW):"
   ]
  }
 ],
 "metadata": {
  "kernelspec": {
   "display_name": "Django Shell-Plus",
   "language": "python",
   "name": "django_extensions"
  },
  "language_info": {
   "codemirror_mode": {
    "name": "ipython",
    "version": 3
   },
   "file_extension": ".py",
   "mimetype": "text/x-python",
   "name": "python",
   "nbconvert_exporter": "python",
   "pygments_lexer": "ipython3",
   "version": "3.7.4"
  }
 },
 "nbformat": 4,
 "nbformat_minor": 4
}
