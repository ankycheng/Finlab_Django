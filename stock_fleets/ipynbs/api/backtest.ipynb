{
 "cells": [
  {
   "cell_type": "code",
   "execution_count": null,
   "metadata": {},
   "outputs": [],
   "source": [
    "import sys,os\n",
    "sys.path.append(\"..\")\n",
    "import django\n",
    "django.setup()\n",
    "from crawlers.models import *\n",
    "import pandas as pd\n",
    "import datetime\n",
    "from components.price_feature import GetAdj\n",
    "import numpy as np\n",
    "from components.backend_api import DataFilter"
   ]
  },
  {
   "cell_type": "code",
   "execution_count": null,
   "metadata": {},
   "outputs": [],
   "source": [
    "class Backtest(GetAdj):\n",
    "    def __init__(self, start_date: str, strategy, model=StockPriceTW, price_choice='close_price',\n",
    "                 market=None, fee_ratio=4 / 10000, tax_ratio=3 / 1000):\n",
    "        super().__init__(start_date, model, price_choice, market)\n",
    "        self.strategy = strategy\n",
    "        self.fee_ratio = fee_ratio\n",
    "        self.tax_ratio = tax_ratio\n",
    "\n",
    "    def get_backtest_data(self):\n",
    "        backtest_data = GetAdj(self.start_date).normal_date_mode()\n",
    "        backtest_data = backtest_data.reindex(self.strategy.index)\n",
    "        return backtest_data\n",
    "\n",
    "    def period_return(self, num, backtest_data, strategy):\n",
    "        backtest_shift = backtest_data.shift(1)\n",
    "        return_table = (backtest_data * (1 - self.fee_ratio) - (\n",
    "                backtest_shift * (self.fee_ratio + self.tax_ratio))) / backtest_shift\n",
    "        return_table = return_table.dropna(how='all')\n",
    "\n",
    "        current_select = strategy.iloc[num].dropna()\n",
    "        current_select = current_select[current_select]\n",
    "        current_idx = current_select.index\n",
    "        result = return_table[current_idx].iloc[num].mean()\n",
    "        return result\n",
    "\n",
    "    @staticmethod\n",
    "    def max_drawdown(arr):\n",
    "        i = np.argmax((np.maximum.accumulate(arr) - arr) / np.maximum.accumulate(arr))  # end of the period\n",
    "        j = np.argmax(arr[:i])  # start of period\n",
    "        data = {'max_drawdown': (1 - arr[i] / arr[j]), 'start': j, 'end': i}\n",
    "        return data\n",
    "\n",
    "    def report(self):\n",
    "        backtest_data = self.get_backtest_data()\n",
    "        report = {}\n",
    "        benchmark = backtest_data['0050']\n",
    "        benchmark_shift = benchmark.shift(1)\n",
    "        report['benchmark'] = ((benchmark * (1 - self.fee_ratio) - (\n",
    "                benchmark_shift * (self.fee_ratio + self.tax_ratio))) / benchmark_shift).fillna(1)\n",
    "        report['date'] = backtest_data.index\n",
    "        report['result'] = np.array(\n",
    "            [1] + [self.period_return(i, backtest_data, self.strategy) for i in range(len(self.strategy) - 1)])\n",
    "        report['cumprod_result'] = report['result'].cumprod()\n",
    "        max_drawdown = self.max_drawdown(report['cumprod_result'])\n",
    "        report['max_drawdown'] = max_drawdown['max_drawdown']\n",
    "        max_drawdown_period = [max_drawdown['start'], max_drawdown['end']]\n",
    "        report['max_drawdown_period'] = [report['date'][i] for i in max_drawdown_period]\n",
    "\n",
    "        report['benchmark'].cumprod().plot()\n",
    "        pd.Series(report['cumprod_result'], index=report['date']).plot()\n",
    "        return reportesult'],index=report['date']).plot()\n",
    "        return report\n",
    "    \n",
    "#     def plot(self):\n",
    "#         df=self.report()\n",
    "#         df['benchmark'].cumprod().plot()\n",
    "#         pd.Series(df['cumprod_result'],index=df['date']).plot()\n",
    "    "
   ]
  },
  {
   "cell_type": "markdown",
   "metadata": {},
   "source": [
    "# Strategy"
   ]
  },
  {
   "cell_type": "code",
   "execution_count": null,
   "metadata": {},
   "outputs": [],
   "source": [
    "cp_last_year_rev=DataFilter(model=MonthlyRevenueTW,fields=['stock_id','date','cp_last_year_rev'],start_date='2013-01-10').get_pivot()\n",
    "cp_last_year_rev.index = pd.to_datetime(cp_last_year_rev.index).shift(5, \"d\")\n",
    "cp_last_year_rev"
   ]
  },
  {
   "cell_type": "code",
   "execution_count": null,
   "metadata": {},
   "outputs": [],
   "source": [
    "cond_rev=cp_last_year_rev>30\n",
    "cond_rev"
   ]
  },
  {
   "cell_type": "code",
   "execution_count": null,
   "metadata": {},
   "outputs": [],
   "source": [
    "df=DataFilter(model=StockPriceTW,fields=['stock_id','date','close_price'],start_date='2013-01-10',market=['sii', 'otc']).get_pivot()\n",
    "start_date=df.index[0]\n",
    "last_date = df.index[-1]\n",
    "date_range = pd.date_range(start=start_date, end=last_date)\n",
    "df = df.reindex(date_range).fillna(method='ffill').dropna(how='all')\n",
    "df2=df.reindex(cond_rev.index)\n",
    "df2"
   ]
  },
  {
   "cell_type": "code",
   "execution_count": null,
   "metadata": {},
   "outputs": [],
   "source": [
    "cond2=(df2>0)&(df2<=100)\n",
    "strategy=(cond_rev & cond2)\n",
    "strategy"
   ]
  },
  {
   "cell_type": "code",
   "execution_count": null,
   "metadata": {},
   "outputs": [],
   "source": [
    "df=Backtest(start_date='2013-01-10',strategy=strategy)\n",
    "df=df.report()\n",
    "df"
   ]
  },
  {
   "cell_type": "code",
   "execution_count": null,
   "metadata": {},
   "outputs": [],
   "source": [
    "df['benchmark'].cumprod().plot()\n",
    "pd.Series(df['cumprod_result'],index=df['date']).plot()"
   ]
  },
  {
   "cell_type": "code",
   "execution_count": null,
   "metadata": {},
   "outputs": [],
   "source": [
    "rr=df['cumprod_result']\n",
    "rr2=df['result']\n",
    "rr2[86]"
   ]
  },
  {
   "cell_type": "code",
   "execution_count": null,
   "metadata": {},
   "outputs": [],
   "source": [
    "import numpy as np\n",
    "def maxdrawdown(arr):\n",
    "    i = np.argmax((np.maximum.accumulate(arr) - arr)/np.maximum.accumulate(arr)) # end of the period\n",
    "    j = np.argmax(arr[:i]) # start of period\n",
    "    print(i,j)\n",
    "    return (1-arr[i]/arr[j])\n",
    "\n",
    "maxdrawdown(rr)"
   ]
  },
  {
   "cell_type": "code",
   "execution_count": null,
   "metadata": {},
   "outputs": [],
   "source": [
    "arr=df['cumprod_result']\n",
    "i = np.argmax((np.maximum.accumulate(arr) - arr)/np.maximum.accumulate(arr)) # end of the period\n",
    "j = np.argmax(arr[:i]) \n",
    "# np.maximum.accumulate(arr)\n",
    "j\n"
   ]
  },
  {
   "cell_type": "code",
   "execution_count": null,
   "metadata": {},
   "outputs": [],
   "source": [
    "i"
   ]
  },
  {
   "cell_type": "code",
   "execution_count": null,
   "metadata": {},
   "outputs": [],
   "source": [
    "np.maximum.accumulate(arr)"
   ]
  },
  {
   "cell_type": "code",
   "execution_count": null,
   "metadata": {},
   "outputs": [],
   "source": [
    "(np.maximum.accumulate(arr) - arr)/np.maximum.accumulate(arr)"
   ]
  },
  {
   "cell_type": "code",
   "execution_count": null,
   "metadata": {},
   "outputs": [],
   "source": []
  }
 ],
 "metadata": {
  "kernelspec": {
   "display_name": "Django Shell-Plus",
   "language": "python",
   "name": "django_extensions"
  },
  "language_info": {
   "codemirror_mode": {
    "name": "ipython",
    "version": 3
   },
   "file_extension": ".py",
   "mimetype": "text/x-python",
   "name": "python",
   "nbconvert_exporter": "python",
   "pygments_lexer": "ipython3",
   "version": "3.7.4"
  }
 },
 "nbformat": 4,
 "nbformat_minor": 2
}
