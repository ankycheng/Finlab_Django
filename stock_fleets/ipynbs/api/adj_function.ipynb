{
 "cells": [
  {
   "cell_type": "code",
   "execution_count": null,
   "metadata": {},
   "outputs": [],
   "source": [
    "import sys,os\n",
    "sys.path.append(\"..\")\n",
    "import django\n",
    "django.setup()\n",
    "from crawlers.models import *\n",
    "import pandas as pd\n",
    "import datetime\n",
    "from crawlers.models import StockPriceTW, StockDivideRatioTW\n",
    "import datetime\n",
    "import pandas as pd\n",
    "import numpy as np\n",
    "from talib import abstract\n",
    "from components.backend_api import DataFilter"
   ]
  },
  {
   "cell_type": "code",
   "execution_count": null,
   "metadata": {},
   "outputs": [],
   "source": [
    "test=DataFilter(StockDivideRatioTW,['stock_id','date','divide_ratio'])\n",
    "test.get_pivot()"
   ]
  },
  {
   "cell_type": "code",
   "execution_count": null,
   "metadata": {},
   "outputs": [],
   "source": [
    "import numpy as np\n",
    "from crawlers.models import *\n",
    "\n",
    "\n",
    "class AdjustedPrice(DataFilter):\n",
    "\n",
    "    @staticmethod\n",
    "    def adj_holiday(item, df):\n",
    "        all_index = (df.index | item.index).sort_values()\n",
    "        all_index = all_index[all_index >= item.index[0]]\n",
    "        df = df.reindex(all_index)\n",
    "        group = all_index.isin(item.index).cumsum()\n",
    "        df = df.groupby(group).mean()\n",
    "        df.index = item.index\n",
    "        return df\n",
    "\n",
    "    def get(self):\n",
    "        columns = ['stock_id', 'date', self.fields]\n",
    "        query_set = {'model': self.model, 'fields': columns, 'offset': self.offset, 'limit': self.limit,\n",
    "                     'start_date': self.start_date, 'end_date': self.end_date}\n",
    "        price = DataFilter(**query_set)\n",
    "        item = price.get_pivot()\n",
    "        divide_ratio = DataFilter(StockDivideRatioTW, ['stock_id', 'date', 'divide_ratio'])\n",
    "        ratio = self.adj_holiday(item, divide_ratio.get_pivot())\n",
    "        divide_ratio = (ratio.reindex_like(item).fillna(1).cumprod())\n",
    "        divide_ratio[np.isinf(divide_ratio)] = 1\n",
    "        result = (item * divide_ratio).fillna(method='ffill', limit=1)\n",
    "        return result\n",
    "    "
   ]
  },
  {
   "cell_type": "code",
   "execution_count": null,
   "metadata": {},
   "outputs": [],
   "source": [
    "class GetAdj:\n",
    "    def __init__(self, start_date: str, interval=None, model=StockPriceTW, price_choice='close_price',\n",
    "                 market=None):\n",
    "        if market is None:\n",
    "            market = ['sii', 'otc']\n",
    "        self.start_date = start_date\n",
    "        self.interval = interval\n",
    "        self.model = model\n",
    "        self.price_choice = price_choice\n",
    "        self.market = market\n",
    "\n",
    "    def price_adj(self):\n",
    "        price_adj=AdjustedPrice(model=self.model,fields=self.price_choice,start_date=self.start_date,market=self.market).get()\n",
    "        return price_adj\n",
    "    \n",
    "    def trade_date_mode(self,df=None):\n",
    "        if df is None:\n",
    "            df=self.price_adj()\n",
    "        date_range=list(df.index[::self.interval])\n",
    "        last_date=df.index[-1]\n",
    "        if last_date not in date_range:\n",
    "            date_range.append(last_date)\n",
    "        result=df.loc[date_range]\n",
    "        return result\n",
    "    \n",
    "    def normal_date_mode(self):\n",
    "        df=self.price_adj()\n",
    "        last_date=df.index[-1]\n",
    "        date_range=pd.date_range(start=self.start_date, end=last_date)\n",
    "        df=df.reindex(date_range).fillna(method='ffill').dropna(how='all')\n",
    "        if self.interval:\n",
    "            result=self.trade_date_mode(df)\n",
    "#         else:\n",
    "#             # month_date range,day is stable\n",
    "#             start_datetime=datetime.datetime.strptime(self.start_date,'%Y-%m-%d')\n",
    "#             init_date=start_datetime-datetime.timedelta(days = 30)\n",
    "#             init_date_str=datetime.datetime.strftime(init_date,'%Y-%m-%d')\n",
    "#             shift_day=start_datetime.day\n",
    "            \n",
    "#             # start_date may be holiday\n",
    "#             date_range=list(pd.date_range(start=init_date_str, end=last_date, freq='M').shift(shift_day, \"d\"))\n",
    "#             date_range[0]=df.index[0]\n",
    "#             result=df.loc[date_range]\n",
    "        return result"
   ]
  },
  {
   "cell_type": "code",
   "execution_count": null,
   "metadata": {},
   "outputs": [],
   "source": [
    "df=AdjustedPrice(model=StockPriceTW,fields='close_price',offset=1000).get()\n",
    "df"
   ]
  },
  {
   "cell_type": "code",
   "execution_count": null,
   "metadata": {},
   "outputs": [],
   "source": [
    "df=GetAdj(start_date='2015-02-10',interval=20).normal_date_mode()\n",
    "df "
   ]
  }
 ],
 "metadata": {
  "kernelspec": {
   "display_name": "Django Shell-Plus",
   "language": "python",
   "name": "django_extensions"
  },
  "language_info": {
   "codemirror_mode": {
    "name": "ipython",
    "version": 3
   },
   "file_extension": ".py",
   "mimetype": "text/x-python",
   "name": "python",
   "nbconvert_exporter": "python",
   "pygments_lexer": "ipython3",
   "version": "3.7.4"
  }
 },
 "nbformat": 4,
 "nbformat_minor": 4
}
