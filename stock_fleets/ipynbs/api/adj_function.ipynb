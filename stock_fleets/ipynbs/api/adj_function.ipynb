{
 "cells": [
  {
   "cell_type": "code",
   "execution_count": null,
   "metadata": {},
   "outputs": [],
   "source": [
    "import sys,os\n",
    "sys.path.append(\"..\")\n",
    "import django\n",
    "django.setup()\n",
    "from crawlers.models import *\n",
    "import pandas as pd\n",
    "import datetime\n",
    "from crawlers.finlab.import_tools import *\n",
    "from components.backend_api import DataFilter\n",
    "import numpy as np\n",
    "from talib import abstract"
   ]
  },
  {
   "cell_type": "code",
   "execution_count": null,
   "metadata": {},
   "outputs": [],
   "source": [
    "test=DataFilter(StockDivideRatioTW,['stock_id','date','divide_ratio'])\n",
    "test.get_pivot()"
   ]
  },
  {
   "cell_type": "code",
   "execution_count": null,
   "metadata": {},
   "outputs": [],
   "source": [
    "from components.backend_api import DataFilter\n",
    "import numpy as np\n",
    "from crawlers.models import *\n",
    "\n",
    "\n",
    "class GetAdj:\n",
    "    def __init__(self, col_name, offset=0, limit=100000):\n",
    "        self.col_name = col_name\n",
    "        self.offset = int(offset)\n",
    "        self.limit = int(limit)\n",
    "\n",
    "    @staticmethod\n",
    "    def adj_holiday(item, df):\n",
    "        all_index = (df.index | item.index).sort_values()\n",
    "        all_index = all_index[all_index >= item.index[0]]\n",
    "        df = df.reindex(all_index)\n",
    "        group = all_index.isin(item.index).cumsum()\n",
    "        df = df.groupby(group).mean()\n",
    "        df.index = item.index\n",
    "        return df\n",
    "\n",
    "    def get(self):\n",
    "        columns = ['stock_id', 'date', self.col_name]\n",
    "        price = DataFilter(StockPriceTW, columns)\n",
    "        item = price.get_pivot()\n",
    "        divide_ratio = DataFilter(StockDivideRatioTW, ['stock_id', 'date', 'divide_ratio'])\n",
    "        ratio = self.adj_holiday(item, divide_ratio.get_pivot())\n",
    "        divide_ratio = (ratio.reindex_like(item).fillna(1).cumprod())\n",
    "        divide_ratio[np.isinf(divide_ratio)] = 1\n",
    "        result = (item * divide_ratio)[-self.offset:-self.offset + self.limit].dropna(axis=1)\n",
    "        return result"
   ]
  },
  {
   "cell_type": "code",
   "execution_count": null,
   "metadata": {},
   "outputs": [],
   "source": []
  }
 ],
 "metadata": {
  "kernelspec": {
   "display_name": "Django Shell-Plus",
   "language": "python",
   "name": "django_extensions"
  },
  "language_info": {
   "codemirror_mode": {
    "name": "ipython",
    "version": 3
   },
   "file_extension": ".py",
   "mimetype": "text/x-python",
   "name": "python",
   "nbconvert_exporter": "python",
   "pygments_lexer": "ipython3",
   "version": "3.7.4"
  }
 },
 "nbformat": 4,
 "nbformat_minor": 4
}
