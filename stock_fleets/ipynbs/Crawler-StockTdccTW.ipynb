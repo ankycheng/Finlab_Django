{
 "cells": [
  {
   "cell_type": "code",
   "execution_count": 1,
   "metadata": {},
   "outputs": [],
   "source": [
    "import sys,os\n",
    "sys.path.append(\"..\")\n",
    "import django\n",
    "django.setup()\n",
    "import pandas as pd\n",
    "from io import StringIO\n",
    "import requests\n",
    "import datetime"
   ]
  },
  {
   "cell_type": "code",
   "execution_count": null,
   "metadata": {},
   "outputs": [],
   "source": [
    "class CrawlStockTdccTW:\n",
    "    def __init__(self):\n",
    "        self.target_name = \"台股集保餘額資訊\"\n",
    "        self.sub_market = [\"sii\", \"otc\"]\n",
    "    \n",
    "    @classmethod\n",
    "    def crawl_main(cls,file=False):\n",
    "        if file is False:\n",
    "            headers = {'User-Agent': 'Mozilla/5.0 (Macintosh; Intel Mac OS X 10_1\\\n",
    "            0_1) AppleWebKit/537.36 (KHTML, like Gecko) Chrome/39.0.2171.95 Safari/537.36'}\n",
    "\n",
    "            res = requests.get(\"https://smart.tdcc.com.tw/opendata/getOD.ashx?id=1-5\", headers=headers)  \n",
    "            df = pd.read_csv(StringIO(res.text))\n",
    "        else:\n",
    "            df=pd.read_csv(file)\n",
    "        df=df.astype(str)\n",
    "        df=df[~df['證券代號'].str.contains('YY|YE')]\n",
    "        df=df.rename(columns={\n",
    "            '證券代號' :'stock_id_fk','持股分級':'hold_class',\n",
    "            '人數':'people','股數':'hold_num','占集保庫存數比例%':'hold_pt'\n",
    "        })\n",
    "        df['stock_id']=df['stock_id_fk']+'_'+df['hold_class']\n",
    "        df=df[df['hold_class']!='16']\n",
    "        df.iloc[:,2:6]=df.iloc[:,2:6].apply(lambda s: pd.to_numeric(s, errors=\"coerce\"))\n",
    "        df['date'] = df[df.columns[0]].apply(lambda s:datetime.datetime.strptime(s,'%Y%m%d'))\n",
    "        df=df.drop(columns=df.columns[0])\n",
    "        return df\n",
    "    \n",
    "import datetime\n",
    "df=CrawlStockTdccTW.crawl_main()\n",
    "df"
   ]
  },
  {
   "cell_type": "code",
   "execution_count": null,
   "metadata": {},
   "outputs": [],
   "source": [
    "df.columns[0]"
   ]
  },
  {
   "cell_type": "code",
   "execution_count": null,
   "metadata": {},
   "outputs": [],
   "source": [
    "df=pd.read_csv('/Users/benbilly3/Downloads/CSV/2020/0124.csv')\n",
    "df.columns[0]"
   ]
  }
 ],
 "metadata": {
  "kernelspec": {
   "display_name": "Django Shell-Plus",
   "language": "python",
   "name": "django_extensions"
  },
  "language_info": {
   "codemirror_mode": {
    "name": "ipython",
    "version": 3
   },
   "file_extension": ".py",
   "mimetype": "text/x-python",
   "name": "python",
   "nbconvert_exporter": "python",
   "pygments_lexer": "ipython3",
   "version": "3.7.4"
  }
 },
 "nbformat": 4,
 "nbformat_minor": 2
}
